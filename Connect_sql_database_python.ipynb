{
 "cells": [
  {
   "cell_type": "markdown",
   "metadata": {
    "id": "n58LTTfx_boc"
   },
   "source": [
    "# Connectar una base de dades  MySQL desde Python\n",
    "\n",
    "------\n",
    "\n",
    "\n",
    "*Prof. Antoni Oliver Gelabert - Administracio de Sistemes Gestors de Bases de Dades (CIFP Pau Casesnoves, Curs 2022/2023)*\n",
    "\n",
    "Modificat de la versio anterior\n",
    "\n",
    "Prof. Antoni Oliver Gelabert - Sistemes de Gestio Empresarial (CIFP Pau Casesnoves, Curs 2021/2022)\n",
    "\n",
    "\n",
    "-----------"
   ]
  },
  {
   "cell_type": "markdown",
   "metadata": {},
   "source": [
    "1. instalam la llibreria del connector python-mysql emprant la terminal CLI (si no la tenim ja instalada)"
   ]
  },
  {
   "cell_type": "code",
   "execution_count": 1,
   "metadata": {
    "colab": {
     "base_uri": "https://localhost:8080/"
    },
    "executionInfo": {
     "elapsed": 10292,
     "status": "ok",
     "timestamp": 1636526378516,
     "user": {
      "displayName": "Antoni Oliver Gelabert",
      "photoUrl": "https://lh3.googleusercontent.com/a-/AOh14GjQ0rAw8BJg_Ls9vocEKihb6s5D-13X7ZeQ5HPT=s64",
      "userId": "16377567832988269837"
     },
     "user_tz": -60
    },
    "id": "-iFkzNLl_boj",
    "outputId": "662dd184-04e1-48ed-df39-c74426cc4ef1"
   },
   "outputs": [
    {
     "name": "stdout",
     "output_type": "stream",
     "text": [
      "Collecting mysql-connector-python\n",
      "  Downloading mysql_connector_python-8.0.31-cp39-cp39-win_amd64.whl (7.9 MB)\n",
      "Requirement already satisfied: protobuf<=3.20.1,>=3.11.0 in c:\\users\\toni_\\anaconda3\\lib\\site-packages (from mysql-connector-python) (3.19.1)\n",
      "Installing collected packages: mysql-connector-python\n",
      "Successfully installed mysql-connector-python-8.0.31\n"
     ]
    }
   ],
   "source": [
    "!pip install mysql-connector-python"
   ]
  },
  {
   "cell_type": "markdown",
   "metadata": {},
   "source": [
    "2. Si estem en Linux, i encara no tenim la base de dades sakila importada a mysql, l'haurem de descarregar. Podem fer-ho amb wget a la terminal bash d'un sistema Linux (per exemple, Ubuntu). Si estem en Windows, podem pensar en descarregar el susbsistema Linux per Windows (WSL) i dur a terme la feina des d'alla. L'ordre WGET es troba tambe en el paquet Cygwin pensat per Windows. Tambe podem emprar una maquina virtual amb Ubuntu 20.04 LTS com a sistema convidat o be podem cercar una solucio amb docker. No obstant aixo, la base de dades es pot descarregar directament tambe desde la URL de la pagina especificada a continuacio de wget. Pensem que si empram Jupyter, el simbol d'exclamacio permet interactuar amb comandes interpretables per al SHELL. Aprofitem per tambe descomprimir la base de dades, una vegada s'ha descarregat "
   ]
  },
  {
   "cell_type": "code",
   "execution_count": 2,
   "metadata": {
    "colab": {
     "base_uri": "https://localhost:8080/"
    },
    "executionInfo": {
     "elapsed": 909,
     "status": "ok",
     "timestamp": 1636526379420,
     "user": {
      "displayName": "Antoni Oliver Gelabert",
      "photoUrl": "https://lh3.googleusercontent.com/a-/AOh14GjQ0rAw8BJg_Ls9vocEKihb6s5D-13X7ZeQ5HPT=s64",
      "userId": "16377567832988269837"
     },
     "user_tz": -60
    },
    "id": "SfWZvAw91sdA",
    "outputId": "98bc56a7-8b9c-47c8-a626-2be6a7a44588"
   },
   "outputs": [
    {
     "name": "stdout",
     "output_type": "stream",
     "text": [
      "--2021-11-10 06:39:38--  https://downloads.mysql.com/docs/sakila-db.zip\n",
      "Resolving downloads.mysql.com (downloads.mysql.com)... 137.254.60.14\n",
      "Connecting to downloads.mysql.com (downloads.mysql.com)|137.254.60.14|:443... connected.\n",
      "HTTP request sent, awaiting response... 200 OK\n",
      "Length: 729386 (712K) [application/octet-stream]\n",
      "Saving to: ‘sakila-db.zip’\n",
      "\n",
      "sakila-db.zip       100%[===================>] 712.29K  1.17MB/s    in 0.6s    \n",
      "\n",
      "2021-11-10 06:39:39 (1.17 MB/s) - ‘sakila-db.zip’ saved [729386/729386]\n",
      "\n",
      "Archive:  sakila-db.zip\n",
      "   creating: sakila-db/\n",
      "  inflating: sakila-db/sakila-data.sql  \n",
      "  inflating: sakila-db/sakila-schema.sql  \n",
      "  inflating: sakila-db/sakila.mwb    \n"
     ]
    }
   ],
   "source": [
    "!wget https://downloads.mysql.com/docs/sakila-db.zip\n",
    "!unzip sakila-db.zip"
   ]
  },
  {
   "cell_type": "markdown",
   "metadata": {},
   "source": [
    "3. Si encara no ho hem fet, cal instalar el Servidor MySQL. Aixo a Ubuntu es pot fer directament amb l'ordre apt install"
   ]
  },
  {
   "cell_type": "code",
   "execution_count": 3,
   "metadata": {
    "colab": {
     "base_uri": "https://localhost:8080/"
    },
    "executionInfo": {
     "elapsed": 37787,
     "status": "ok",
     "timestamp": 1636526417204,
     "user": {
      "displayName": "Antoni Oliver Gelabert",
      "photoUrl": "https://lh3.googleusercontent.com/a-/AOh14GjQ0rAw8BJg_Ls9vocEKihb6s5D-13X7ZeQ5HPT=s64",
      "userId": "16377567832988269837"
     },
     "user_tz": -60
    },
    "id": "-ckRGVnb1l9Q",
    "outputId": "14b8e9bf-bafa-440b-d687-e4cb9f6d547c"
   },
   "outputs": [
    {
     "name": "stdout",
     "output_type": "stream",
     "text": [
      "Reading package lists... Done\n",
      "Building dependency tree       \n",
      "Reading state information... Done\n",
      "The following additional packages will be installed:\n",
      "  libcgi-fast-perl libcgi-pm-perl libencode-locale-perl libevent-core-2.1-6\n",
      "  libfcgi-perl libhtml-parser-perl libhtml-tagset-perl libhtml-template-perl\n",
      "  libhttp-date-perl libhttp-message-perl libio-html-perl\n",
      "  liblwp-mediatypes-perl libtimedate-perl liburi-perl mysql-client-5.7\n",
      "  mysql-client-core-5.7 mysql-server-5.7 mysql-server-core-5.7\n",
      "Suggested packages:\n",
      "  libdata-dump-perl libipc-sharedcache-perl libwww-perl mailx tinyca\n",
      "The following NEW packages will be installed:\n",
      "  libcgi-fast-perl libcgi-pm-perl libencode-locale-perl libevent-core-2.1-6\n",
      "  libfcgi-perl libhtml-parser-perl libhtml-tagset-perl libhtml-template-perl\n",
      "  libhttp-date-perl libhttp-message-perl libio-html-perl\n",
      "  liblwp-mediatypes-perl libtimedate-perl liburi-perl mysql-client-5.7\n",
      "  mysql-client-core-5.7 mysql-server mysql-server-5.7 mysql-server-core-5.7\n",
      "0 upgraded, 19 newly installed, 0 to remove and 37 not upgraded.\n",
      "Need to get 19.6 MB of archives.\n",
      "After this operation, 155 MB of additional disk space will be used.\n",
      "Get:1 http://archive.ubuntu.com/ubuntu bionic-updates/main amd64 mysql-client-core-5.7 amd64 5.7.36-0ubuntu0.18.04.1 [6,638 kB]\n",
      "Get:2 http://archive.ubuntu.com/ubuntu bionic-updates/main amd64 mysql-client-5.7 amd64 5.7.36-0ubuntu0.18.04.1 [1,942 kB]\n",
      "Get:3 http://archive.ubuntu.com/ubuntu bionic-updates/main amd64 mysql-server-core-5.7 amd64 5.7.36-0ubuntu0.18.04.1 [7,426 kB]\n",
      "Get:4 http://archive.ubuntu.com/ubuntu bionic/main amd64 libevent-core-2.1-6 amd64 2.1.8-stable-4build1 [85.9 kB]\n",
      "Get:5 http://archive.ubuntu.com/ubuntu bionic-updates/main amd64 mysql-server-5.7 amd64 5.7.36-0ubuntu0.18.04.1 [2,906 kB]\n",
      "Get:6 http://archive.ubuntu.com/ubuntu bionic/main amd64 libhtml-tagset-perl all 3.20-3 [12.1 kB]\n",
      "Get:7 http://archive.ubuntu.com/ubuntu bionic/main amd64 liburi-perl all 1.73-1 [77.2 kB]\n",
      "Get:8 http://archive.ubuntu.com/ubuntu bionic/main amd64 libhtml-parser-perl amd64 3.72-3build1 [85.9 kB]\n",
      "Get:9 http://archive.ubuntu.com/ubuntu bionic/main amd64 libcgi-pm-perl all 4.38-1 [185 kB]\n",
      "Get:10 http://archive.ubuntu.com/ubuntu bionic/main amd64 libfcgi-perl amd64 0.78-2build1 [32.8 kB]\n",
      "Get:11 http://archive.ubuntu.com/ubuntu bionic/main amd64 libcgi-fast-perl all 1:2.13-1 [9,940 B]\n",
      "Get:12 http://archive.ubuntu.com/ubuntu bionic/main amd64 libencode-locale-perl all 1.05-1 [12.3 kB]\n",
      "Get:13 http://archive.ubuntu.com/ubuntu bionic/main amd64 libhtml-template-perl all 2.97-1 [59.0 kB]\n",
      "Get:14 http://archive.ubuntu.com/ubuntu bionic/main amd64 libtimedate-perl all 2.3000-2 [37.5 kB]\n",
      "Get:15 http://archive.ubuntu.com/ubuntu bionic/main amd64 libhttp-date-perl all 6.02-1 [10.4 kB]\n",
      "Get:16 http://archive.ubuntu.com/ubuntu bionic/main amd64 libio-html-perl all 1.001-1 [14.9 kB]\n",
      "Get:17 http://archive.ubuntu.com/ubuntu bionic/main amd64 liblwp-mediatypes-perl all 6.02-1 [21.7 kB]\n",
      "Get:18 http://archive.ubuntu.com/ubuntu bionic/main amd64 libhttp-message-perl all 6.14-1 [72.1 kB]\n",
      "Get:19 http://archive.ubuntu.com/ubuntu bionic-updates/main amd64 mysql-server all 5.7.36-0ubuntu0.18.04.1 [9,944 B]\n",
      "Fetched 19.6 MB in 1s (13.5 MB/s)\n",
      "Preconfiguring packages ...\n",
      "Selecting previously unselected package mysql-client-core-5.7.\n",
      "(Reading database ... 155219 files and directories currently installed.)\n",
      "Preparing to unpack .../00-mysql-client-core-5.7_5.7.36-0ubuntu0.18.04.1_amd64.deb ...\n",
      "Unpacking mysql-client-core-5.7 (5.7.36-0ubuntu0.18.04.1) ...\n",
      "Selecting previously unselected package mysql-client-5.7.\n",
      "Preparing to unpack .../01-mysql-client-5.7_5.7.36-0ubuntu0.18.04.1_amd64.deb ...\n",
      "Unpacking mysql-client-5.7 (5.7.36-0ubuntu0.18.04.1) ...\n",
      "Selecting previously unselected package mysql-server-core-5.7.\n",
      "Preparing to unpack .../02-mysql-server-core-5.7_5.7.36-0ubuntu0.18.04.1_amd64.deb ...\n",
      "Unpacking mysql-server-core-5.7 (5.7.36-0ubuntu0.18.04.1) ...\n",
      "Selecting previously unselected package libevent-core-2.1-6:amd64.\n",
      "Preparing to unpack .../03-libevent-core-2.1-6_2.1.8-stable-4build1_amd64.deb ...\n",
      "Unpacking libevent-core-2.1-6:amd64 (2.1.8-stable-4build1) ...\n",
      "Selecting previously unselected package mysql-server-5.7.\n",
      "Preparing to unpack .../04-mysql-server-5.7_5.7.36-0ubuntu0.18.04.1_amd64.deb ...\n",
      "Unpacking mysql-server-5.7 (5.7.36-0ubuntu0.18.04.1) ...\n",
      "Selecting previously unselected package libhtml-tagset-perl.\n",
      "Preparing to unpack .../05-libhtml-tagset-perl_3.20-3_all.deb ...\n",
      "Unpacking libhtml-tagset-perl (3.20-3) ...\n",
      "Selecting previously unselected package liburi-perl.\n",
      "Preparing to unpack .../06-liburi-perl_1.73-1_all.deb ...\n",
      "Unpacking liburi-perl (1.73-1) ...\n",
      "Selecting previously unselected package libhtml-parser-perl.\n",
      "Preparing to unpack .../07-libhtml-parser-perl_3.72-3build1_amd64.deb ...\n",
      "Unpacking libhtml-parser-perl (3.72-3build1) ...\n",
      "Selecting previously unselected package libcgi-pm-perl.\n",
      "Preparing to unpack .../08-libcgi-pm-perl_4.38-1_all.deb ...\n",
      "Unpacking libcgi-pm-perl (4.38-1) ...\n",
      "Selecting previously unselected package libfcgi-perl.\n",
      "Preparing to unpack .../09-libfcgi-perl_0.78-2build1_amd64.deb ...\n",
      "Unpacking libfcgi-perl (0.78-2build1) ...\n",
      "Selecting previously unselected package libcgi-fast-perl.\n",
      "Preparing to unpack .../10-libcgi-fast-perl_1%3a2.13-1_all.deb ...\n",
      "Unpacking libcgi-fast-perl (1:2.13-1) ...\n",
      "Selecting previously unselected package libencode-locale-perl.\n",
      "Preparing to unpack .../11-libencode-locale-perl_1.05-1_all.deb ...\n",
      "Unpacking libencode-locale-perl (1.05-1) ...\n",
      "Selecting previously unselected package libhtml-template-perl.\n",
      "Preparing to unpack .../12-libhtml-template-perl_2.97-1_all.deb ...\n",
      "Unpacking libhtml-template-perl (2.97-1) ...\n",
      "Selecting previously unselected package libtimedate-perl.\n",
      "Preparing to unpack .../13-libtimedate-perl_2.3000-2_all.deb ...\n",
      "Unpacking libtimedate-perl (2.3000-2) ...\n",
      "Selecting previously unselected package libhttp-date-perl.\n",
      "Preparing to unpack .../14-libhttp-date-perl_6.02-1_all.deb ...\n",
      "Unpacking libhttp-date-perl (6.02-1) ...\n",
      "Selecting previously unselected package libio-html-perl.\n",
      "Preparing to unpack .../15-libio-html-perl_1.001-1_all.deb ...\n",
      "Unpacking libio-html-perl (1.001-1) ...\n",
      "Selecting previously unselected package liblwp-mediatypes-perl.\n",
      "Preparing to unpack .../16-liblwp-mediatypes-perl_6.02-1_all.deb ...\n",
      "Unpacking liblwp-mediatypes-perl (6.02-1) ...\n",
      "Selecting previously unselected package libhttp-message-perl.\n",
      "Preparing to unpack .../17-libhttp-message-perl_6.14-1_all.deb ...\n",
      "Unpacking libhttp-message-perl (6.14-1) ...\n",
      "Selecting previously unselected package mysql-server.\n",
      "Preparing to unpack .../18-mysql-server_5.7.36-0ubuntu0.18.04.1_all.deb ...\n",
      "Unpacking mysql-server (5.7.36-0ubuntu0.18.04.1) ...\n",
      "Setting up libhtml-tagset-perl (3.20-3) ...\n",
      "Setting up libevent-core-2.1-6:amd64 (2.1.8-stable-4build1) ...\n",
      "Setting up libencode-locale-perl (1.05-1) ...\n",
      "Setting up mysql-server-core-5.7 (5.7.36-0ubuntu0.18.04.1) ...\n",
      "Setting up libtimedate-perl (2.3000-2) ...\n",
      "Setting up libio-html-perl (1.001-1) ...\n",
      "Setting up liblwp-mediatypes-perl (6.02-1) ...\n",
      "Setting up liburi-perl (1.73-1) ...\n",
      "Setting up libhtml-parser-perl (3.72-3build1) ...\n",
      "Setting up libcgi-pm-perl (4.38-1) ...\n",
      "Setting up mysql-client-core-5.7 (5.7.36-0ubuntu0.18.04.1) ...\n",
      "Setting up libfcgi-perl (0.78-2build1) ...\n",
      "Setting up libhttp-date-perl (6.02-1) ...\n",
      "Setting up libhtml-template-perl (2.97-1) ...\n",
      "Setting up libcgi-fast-perl (1:2.13-1) ...\n",
      "Setting up libhttp-message-perl (6.14-1) ...\n",
      "Setting up mysql-client-5.7 (5.7.36-0ubuntu0.18.04.1) ...\n",
      "Setting up mysql-server-5.7 (5.7.36-0ubuntu0.18.04.1) ...\n",
      "invoke-rc.d: could not determine current runlevel\n",
      "invoke-rc.d: policy-rc.d denied execution of stop.\n",
      "update-alternatives: using /etc/mysql/mysql.cnf to provide /etc/mysql/my.cnf (my.cnf) in auto mode\n",
      "Renaming removed key_buffer and myisam-recover options (if present)\n",
      "Created symlink /etc/systemd/system/multi-user.target.wants/mysql.service → /lib/systemd/system/mysql.service.\n",
      "invoke-rc.d: could not determine current runlevel\n",
      "invoke-rc.d: policy-rc.d denied execution of start.\n",
      "Setting up mysql-server (5.7.36-0ubuntu0.18.04.1) ...\n",
      "Processing triggers for systemd (237-3ubuntu10.52) ...\n",
      "Processing triggers for man-db (2.8.3-2ubuntu0.1) ...\n",
      "Processing triggers for libc-bin (2.27-3ubuntu1.3) ...\n",
      "/sbin/ldconfig.real: /usr/local/lib/python3.7/dist-packages/ideep4py/lib/libmkldnn.so.0 is not a symbolic link\n",
      "\n"
     ]
    }
   ],
   "source": [
    "!apt install mysql-server 2> /dev/null"
   ]
  },
  {
   "cell_type": "markdown",
   "metadata": {
    "colab": {
     "base_uri": "https://localhost:8080/"
    },
    "executionInfo": {
     "elapsed": 18,
     "status": "ok",
     "timestamp": 1636526417205,
     "user": {
      "displayName": "Antoni Oliver Gelabert",
      "photoUrl": "https://lh3.googleusercontent.com/a-/AOh14GjQ0rAw8BJg_Ls9vocEKihb6s5D-13X7ZeQ5HPT=s64",
      "userId": "16377567832988269837"
     },
     "user_tz": -60
    },
    "id": "JwS6qDiK3C-b",
    "outputId": "0f5fa5e3-48ab-4f20-c324-aff4a71f5632"
   },
   "source": [
    "4. Tot seguit importam ara ja la BBDD sakila a MySQL. Primer l'esquema, llavors les dades. Fem servir un inici de sessio sense password per agilitzar, pero en un cas real sempre s'ha de tenir un bon password"
   ]
  },
  {
   "cell_type": "code",
   "execution_count": 6,
   "metadata": {
    "colab": {
     "base_uri": "https://localhost:8080/"
    },
    "executionInfo": {
     "elapsed": 18,
     "status": "ok",
     "timestamp": 1636526417574,
     "user": {
      "displayName": "Antoni Oliver Gelabert",
      "photoUrl": "https://lh3.googleusercontent.com/a-/AOh14GjQ0rAw8BJg_Ls9vocEKihb6s5D-13X7ZeQ5HPT=s64",
      "userId": "16377567832988269837"
     },
     "user_tz": -60
    },
    "id": "0k1tCbgl1Wk2",
    "outputId": "333e6d4d-63ed-40e9-d43f-ff1e1b0dc5ac"
   },
   "outputs": [
    {
     "name": "stdout",
     "output_type": "stream",
     "text": [
      "mysql  Ver 14.14 Distrib 5.7.36, for Linux (x86_64) using  EditLine wrapper\n",
      "Copyright (c) 2000, 2021, Oracle and/or its affiliates.\n",
      "\n",
      "Oracle is a registered trademark of Oracle Corporation and/or its\n",
      "affiliates. Other names may be trademarks of their respective\n",
      "owners.\n",
      "\n",
      "Usage: mysql [OPTIONS] [database]\n",
      "  -?, --help          Display this help and exit.\n",
      "  -I, --help          Synonym for -?\n",
      "  --auto-rehash       Enable automatic rehashing. One doesn't need to use\n",
      "                      'rehash' to get table and field completion, but startup\n",
      "                      and reconnecting may take a longer time. Disable with\n",
      "                      --disable-auto-rehash.\n",
      "                      (Defaults to on; use --skip-auto-rehash to disable.)\n",
      "  -A, --no-auto-rehash \n",
      "                      No automatic rehashing. One has to use 'rehash' to get\n",
      "                      table and field completion. This gives a quicker start of\n",
      "                      mysql and disables rehashing on reconnect.\n",
      "  --auto-vertical-output \n",
      "                      Automatically switch to vertical output mode if the\n",
      "                      result is wider than the terminal width.\n",
      "  -B, --batch         Don't use history file. Disable interactive behavior.\n",
      "                      (Enables --silent.)\n",
      "  --bind-address=name IP address to bind to.\n",
      "  --binary-as-hex     Print binary data as hex\n",
      "  --character-sets-dir=name \n",
      "                      Directory for character set files.\n",
      "  --column-type-info  Display column type information.\n",
      "  -c, --comments      Preserve comments. Send comments to the server. The\n",
      "                      default is --skip-comments (discard comments), enable\n",
      "                      with --comments.\n",
      "  -C, --compress      Use compression in server/client protocol.\n",
      "  -#, --debug[=#]     This is a non-debug version. Catch this and exit.\n",
      "  --debug-check       This is a non-debug version. Catch this and exit.\n",
      "  -T, --debug-info    This is a non-debug version. Catch this and exit.\n",
      "  -D, --database=name Database to use.\n",
      "  --default-character-set=name \n",
      "                      Set the default character set.\n",
      "  --delimiter=name    Delimiter to be used.\n",
      "  --enable-cleartext-plugin \n",
      "                      Enable/disable the clear text authentication plugin.\n",
      "  -e, --execute=name  Execute command and quit. (Disables --force and history\n",
      "                      file.)\n",
      "  -E, --vertical      Print the output of a query (rows) vertically.\n",
      "  -f, --force         Continue even if we get an SQL error.\n",
      "  --histignore=name   A colon-separated list of patterns to keep statements\n",
      "                      from getting logged into syslog and mysql history.\n",
      "  -G, --named-commands \n",
      "                      Enable named commands. Named commands mean this program's\n",
      "                      internal commands; see mysql> help . When enabled, the\n",
      "                      named commands can be used from any line of the query,\n",
      "                      otherwise only from the first line, before an enter.\n",
      "                      Disable with --disable-named-commands. This option is\n",
      "                      disabled by default.\n",
      "  -i, --ignore-spaces Ignore space after function names.\n",
      "  --init-command=name SQL Command to execute when connecting to MySQL server.\n",
      "                      Will automatically be re-executed when reconnecting.\n",
      "  --local-infile      Enable/disable LOAD DATA LOCAL INFILE.\n",
      "  -b, --no-beep       Turn off beep on error.\n",
      "  -h, --host=name     Connect to host.\n",
      "  -H, --html          Produce HTML output.\n",
      "  -X, --xml           Produce XML output.\n",
      "  --line-numbers      Write line numbers for errors.\n",
      "                      (Defaults to on; use --skip-line-numbers to disable.)\n",
      "  -L, --skip-line-numbers \n",
      "                      Don't write line number for errors.\n",
      "  -n, --unbuffered    Flush buffer after each query.\n",
      "  --column-names      Write column names in results.\n",
      "                      (Defaults to on; use --skip-column-names to disable.)\n",
      "  -N, --skip-column-names \n",
      "                      Don't write column names in results.\n",
      "  --sigint-ignore     Ignore SIGINT (CTRL-C).\n",
      "  -o, --one-database  Ignore statements except those that occur while the\n",
      "                      default database is the one named at the command line.\n",
      "  --pager[=name]      Pager to use to display results. If you don't supply an\n",
      "                      option, the default pager is taken from your ENV variable\n",
      "                      PAGER. Valid pagers are less, more, cat [> filename],\n",
      "                      etc. See interactive help (\\h) also. This option does not\n",
      "                      work in batch mode. Disable with --disable-pager. This\n",
      "                      option is disabled by default.\n",
      "  -p, --password[=name] \n",
      "                      Password to use when connecting to server. If password is\n",
      "                      not given it's asked from the tty.\n",
      "  -P, --port=#        Port number to use for connection or 0 for default to, in\n",
      "                      order of preference, my.cnf, $MYSQL_TCP_PORT,\n",
      "                      /etc/services, built-in default (3306).\n",
      "  --prompt=name       Set the mysql prompt to this value.\n",
      "  --protocol=name     The protocol to use for connection (tcp, socket, pipe,\n",
      "                      memory).\n",
      "  -q, --quick         Don't cache result, print it row by row. This may slow\n",
      "                      down the server if the output is suspended. Doesn't use\n",
      "                      history file.\n",
      "  -r, --raw           Write fields without conversion. Used with --batch.\n",
      "  --reconnect         Reconnect if the connection is lost. Disable with\n",
      "                      --disable-reconnect. This option is enabled by default.\n",
      "                      (Defaults to on; use --skip-reconnect to disable.)\n",
      "  -s, --silent        Be more silent. Print results with a tab as separator,\n",
      "                      each row on new line.\n",
      "  -S, --socket=name   The socket file to use for connection.\n",
      "  --ssl-mode=name     SSL connection mode.\n",
      "  --ssl               Deprecated. Use --ssl-mode instead.\n",
      "                      (Defaults to on; use --skip-ssl to disable.)\n",
      "  --ssl-verify-server-cert \n",
      "                      Deprecated. Use --ssl-mode=VERIFY_IDENTITY instead.\n",
      "  --ssl-ca=name       CA file in PEM format.\n",
      "  --ssl-capath=name   CA directory.\n",
      "  --ssl-cert=name     X509 cert in PEM format.\n",
      "  --ssl-cipher=name   SSL cipher to use.\n",
      "  --ssl-key=name      X509 key in PEM format.\n",
      "  --ssl-crl=name      Certificate revocation list.\n",
      "  --ssl-crlpath=name  Certificate revocation list path.\n",
      "  --tls-version=name  TLS version to use, permitted values are: TLSv1, TLSv1.1,\n",
      "                      TLSv1.2\n",
      "  --server-public-key-path=name \n",
      "                      File path to the server public RSA key in PEM format.\n",
      "  --get-server-public-key \n",
      "                      Get server public key\n",
      "  -t, --table         Output in table format.\n",
      "  --tee=name          Append everything into outfile. See interactive help (\\h)\n",
      "                      also. Does not work in batch mode. Disable with\n",
      "                      --disable-tee. This option is disabled by default.\n",
      "  -u, --user=name     User for login if not current user.\n",
      "  -U, --safe-updates  Only allow UPDATE and DELETE that uses keys.\n",
      "  -U, --i-am-a-dummy  Synonym for option --safe-updates, -U.\n",
      "  -v, --verbose       Write more. (-v -v -v gives the table output format).\n",
      "  -V, --version       Output version information and exit.\n",
      "  -w, --wait          Wait and retry if connection is down.\n",
      "  --connect-timeout=# Number of seconds before connection timeout.\n",
      "  --max-allowed-packet=# \n",
      "                      The maximum packet length to send to or receive from\n",
      "                      server.\n",
      "  --net-buffer-length=# \n",
      "                      The buffer size for TCP/IP and socket communication.\n",
      "  --select-limit=#    Automatic limit for SELECT when using --safe-updates.\n",
      "  --max-join-size=#   Automatic limit for rows in a join when using\n",
      "                      --safe-updates.\n",
      "  --secure-auth       Refuse client connecting to server if it uses old\n",
      "                      (pre-4.1.1) protocol. Deprecated. Always TRUE\n",
      "  --server-arg=name   Send embedded server this as a parameter.\n",
      "  --show-warnings     Show warnings after every statement.\n",
      "  -j, --syslog        Log filtered interactive commands to syslog. Filtering of\n",
      "                      commands depends on the patterns supplied via histignore\n",
      "                      option besides the default patterns.\n",
      "  --plugin-dir=name   Directory for client-side plugins.\n",
      "  --default-auth=name Default authentication client-side plugin to use.\n",
      "  --binary-mode       By default, ASCII '\\0' is disallowed and '\\r\\n' is\n",
      "                      translated to '\\n'. This switch turns off both features,\n",
      "                      and also turns off parsing of all clientcommands except\n",
      "                      \\C and DELIMITER, in non-interactive mode (for input\n",
      "                      piped to mysql or loaded using the 'source' command).\n",
      "                      This is necessary when processing output from mysqlbinlog\n",
      "                      that may contain blobs.\n",
      "  --connect-expired-password \n",
      "                      Notify the server that this client is prepared to handle\n",
      "                      expired password sandbox mode.\n",
      "\n",
      "Default options are read from the following files in the given order:\n",
      "/etc/my.cnf /etc/mysql/my.cnf ~/.my.cnf \n",
      "The following groups are read: mysql client\n",
      "The following options may be given as the first argument:\n",
      "--print-defaults        Print the program argument list and exit.\n",
      "--no-defaults           Don't read default options from any option file,\n",
      "                        except for login file.\n",
      "--defaults-file=#       Only read default options from the given file #.\n",
      "--defaults-extra-file=# Read this file after the global files are read.\n",
      "--defaults-group-suffix=#\n",
      "                        Also read groups with concat(group, suffix)\n",
      "--login-path=#          Read this path from the login file.\n",
      "\n",
      "Variables (--variable-name=value)\n",
      "and boolean options {FALSE|TRUE}  Value (after reading options)\n",
      "--------------------------------- ----------------------------------------\n",
      "auto-rehash                       TRUE\n",
      "auto-vertical-output              FALSE\n",
      "bind-address                      (No default value)\n",
      "binary-as-hex                     FALSE\n",
      "character-sets-dir                (No default value)\n",
      "column-type-info                  FALSE\n",
      "comments                          FALSE\n",
      "compress                          FALSE\n",
      "database                          (No default value)\n",
      "default-character-set             auto\n",
      "delimiter                         ;\n",
      "enable-cleartext-plugin           FALSE\n",
      "vertical                          FALSE\n",
      "force                             FALSE\n",
      "histignore                        (No default value)\n",
      "named-commands                    FALSE\n",
      "ignore-spaces                     FALSE\n",
      "init-command                      (No default value)\n",
      "local-infile                      FALSE\n",
      "no-beep                           FALSE\n",
      "host                              (No default value)\n",
      "html                              FALSE\n",
      "xml                               FALSE\n",
      "line-numbers                      TRUE\n",
      "unbuffered                        FALSE\n",
      "column-names                      TRUE\n",
      "sigint-ignore                     FALSE\n",
      "port                              0\n",
      "prompt                            mysql> \n",
      "quick                             FALSE\n",
      "raw                               FALSE\n",
      "reconnect                         FALSE\n",
      "socket                            (No default value)\n",
      "ssl                               TRUE\n",
      "ssl-verify-server-cert            FALSE\n",
      "ssl-ca                            (No default value)\n",
      "ssl-capath                        (No default value)\n",
      "ssl-cert                          (No default value)\n",
      "ssl-cipher                        (No default value)\n",
      "ssl-key                           (No default value)\n",
      "ssl-crl                           (No default value)\n",
      "ssl-crlpath                       (No default value)\n",
      "tls-version                       (No default value)\n",
      "server-public-key-path            (No default value)\n",
      "get-server-public-key             FALSE\n",
      "table                             FALSE\n",
      "user                              root\n",
      "safe-updates                      FALSE\n",
      "i-am-a-dummy                      FALSE\n",
      "connect-timeout                   0\n",
      "max-allowed-packet                16777216\n",
      "net-buffer-length                 16384\n",
      "select-limit                      1000\n",
      "max-join-size                     1000000\n",
      "secure-auth                       TRUE\n",
      "show-warnings                     FALSE\n",
      "plugin-dir                        (No default value)\n",
      "default-auth                      (No default value)\n",
      "binary-mode                       FALSE\n",
      "connect-expired-password          FALSE\n",
      "mysql  Ver 14.14 Distrib 5.7.36, for Linux (x86_64) using  EditLine wrapper\n",
      "Copyright (c) 2000, 2021, Oracle and/or its affiliates.\n",
      "\n",
      "Oracle is a registered trademark of Oracle Corporation and/or its\n",
      "affiliates. Other names may be trademarks of their respective\n",
      "owners.\n",
      "\n",
      "Usage: mysql [OPTIONS] [database]\n",
      "  -?, --help          Display this help and exit.\n",
      "  -I, --help          Synonym for -?\n",
      "  --auto-rehash       Enable automatic rehashing. One doesn't need to use\n",
      "                      'rehash' to get table and field completion, but startup\n",
      "                      and reconnecting may take a longer time. Disable with\n",
      "                      --disable-auto-rehash.\n",
      "                      (Defaults to on; use --skip-auto-rehash to disable.)\n",
      "  -A, --no-auto-rehash \n",
      "                      No automatic rehashing. One has to use 'rehash' to get\n",
      "                      table and field completion. This gives a quicker start of\n",
      "                      mysql and disables rehashing on reconnect.\n",
      "  --auto-vertical-output \n",
      "                      Automatically switch to vertical output mode if the\n",
      "                      result is wider than the terminal width.\n",
      "  -B, --batch         Don't use history file. Disable interactive behavior.\n",
      "                      (Enables --silent.)\n",
      "  --bind-address=name IP address to bind to.\n",
      "  --binary-as-hex     Print binary data as hex\n",
      "  --character-sets-dir=name \n",
      "                      Directory for character set files.\n",
      "  --column-type-info  Display column type information.\n",
      "  -c, --comments      Preserve comments. Send comments to the server. The\n",
      "                      default is --skip-comments (discard comments), enable\n",
      "                      with --comments.\n",
      "  -C, --compress      Use compression in server/client protocol.\n",
      "  -#, --debug[=#]     This is a non-debug version. Catch this and exit.\n",
      "  --debug-check       This is a non-debug version. Catch this and exit.\n",
      "  -T, --debug-info    This is a non-debug version. Catch this and exit.\n",
      "  -D, --database=name Database to use.\n",
      "  --default-character-set=name \n",
      "                      Set the default character set.\n",
      "  --delimiter=name    Delimiter to be used.\n",
      "  --enable-cleartext-plugin \n",
      "                      Enable/disable the clear text authentication plugin.\n",
      "  -e, --execute=name  Execute command and quit. (Disables --force and history\n",
      "                      file.)\n",
      "  -E, --vertical      Print the output of a query (rows) vertically.\n",
      "  -f, --force         Continue even if we get an SQL error.\n",
      "  --histignore=name   A colon-separated list of patterns to keep statements\n",
      "                      from getting logged into syslog and mysql history.\n",
      "  -G, --named-commands \n",
      "                      Enable named commands. Named commands mean this program's\n",
      "                      internal commands; see mysql> help . When enabled, the\n",
      "                      named commands can be used from any line of the query,\n",
      "                      otherwise only from the first line, before an enter.\n",
      "                      Disable with --disable-named-commands. This option is\n",
      "                      disabled by default.\n",
      "  -i, --ignore-spaces Ignore space after function names.\n",
      "  --init-command=name SQL Command to execute when connecting to MySQL server.\n",
      "                      Will automatically be re-executed when reconnecting.\n",
      "  --local-infile      Enable/disable LOAD DATA LOCAL INFILE.\n",
      "  -b, --no-beep       Turn off beep on error.\n",
      "  -h, --host=name     Connect to host.\n",
      "  -H, --html          Produce HTML output.\n",
      "  -X, --xml           Produce XML output.\n",
      "  --line-numbers      Write line numbers for errors.\n",
      "                      (Defaults to on; use --skip-line-numbers to disable.)\n",
      "  -L, --skip-line-numbers \n",
      "                      Don't write line number for errors.\n",
      "  -n, --unbuffered    Flush buffer after each query.\n",
      "  --column-names      Write column names in results.\n",
      "                      (Defaults to on; use --skip-column-names to disable.)\n",
      "  -N, --skip-column-names \n",
      "                      Don't write column names in results.\n",
      "  --sigint-ignore     Ignore SIGINT (CTRL-C).\n",
      "  -o, --one-database  Ignore statements except those that occur while the\n",
      "                      default database is the one named at the command line.\n",
      "  --pager[=name]      Pager to use to display results. If you don't supply an\n",
      "                      option, the default pager is taken from your ENV variable\n",
      "                      PAGER. Valid pagers are less, more, cat [> filename],\n",
      "                      etc. See interactive help (\\h) also. This option does not\n",
      "                      work in batch mode. Disable with --disable-pager. This\n",
      "                      option is disabled by default.\n",
      "  -p, --password[=name] \n",
      "                      Password to use when connecting to server. If password is\n",
      "                      not given it's asked from the tty.\n",
      "  -P, --port=#        Port number to use for connection or 0 for default to, in\n",
      "                      order of preference, my.cnf, $MYSQL_TCP_PORT,\n",
      "                      /etc/services, built-in default (3306).\n",
      "  --prompt=name       Set the mysql prompt to this value.\n",
      "  --protocol=name     The protocol to use for connection (tcp, socket, pipe,\n",
      "                      memory).\n",
      "  -q, --quick         Don't cache result, print it row by row. This may slow\n",
      "                      down the server if the output is suspended. Doesn't use\n",
      "                      history file.\n",
      "  -r, --raw           Write fields without conversion. Used with --batch.\n",
      "  --reconnect         Reconnect if the connection is lost. Disable with\n",
      "                      --disable-reconnect. This option is enabled by default.\n",
      "                      (Defaults to on; use --skip-reconnect to disable.)\n",
      "  -s, --silent        Be more silent. Print results with a tab as separator,\n",
      "                      each row on new line.\n",
      "  -S, --socket=name   The socket file to use for connection.\n",
      "  --ssl-mode=name     SSL connection mode.\n",
      "  --ssl               Deprecated. Use --ssl-mode instead.\n",
      "                      (Defaults to on; use --skip-ssl to disable.)\n",
      "  --ssl-verify-server-cert \n",
      "                      Deprecated. Use --ssl-mode=VERIFY_IDENTITY instead.\n",
      "  --ssl-ca=name       CA file in PEM format.\n",
      "  --ssl-capath=name   CA directory.\n",
      "  --ssl-cert=name     X509 cert in PEM format.\n",
      "  --ssl-cipher=name   SSL cipher to use.\n",
      "  --ssl-key=name      X509 key in PEM format.\n",
      "  --ssl-crl=name      Certificate revocation list.\n",
      "  --ssl-crlpath=name  Certificate revocation list path.\n",
      "  --tls-version=name  TLS version to use, permitted values are: TLSv1, TLSv1.1,\n",
      "                      TLSv1.2\n",
      "  --server-public-key-path=name \n",
      "                      File path to the server public RSA key in PEM format.\n",
      "  --get-server-public-key \n",
      "                      Get server public key\n",
      "  -t, --table         Output in table format.\n",
      "  --tee=name          Append everything into outfile. See interactive help (\\h)\n",
      "                      also. Does not work in batch mode. Disable with\n",
      "                      --disable-tee. This option is disabled by default.\n",
      "  -u, --user=name     User for login if not current user.\n",
      "  -U, --safe-updates  Only allow UPDATE and DELETE that uses keys.\n",
      "  -U, --i-am-a-dummy  Synonym for option --safe-updates, -U.\n",
      "  -v, --verbose       Write more. (-v -v -v gives the table output format).\n",
      "  -V, --version       Output version information and exit.\n",
      "  -w, --wait          Wait and retry if connection is down.\n",
      "  --connect-timeout=# Number of seconds before connection timeout.\n",
      "  --max-allowed-packet=# \n",
      "                      The maximum packet length to send to or receive from\n",
      "                      server.\n",
      "  --net-buffer-length=# \n",
      "                      The buffer size for TCP/IP and socket communication.\n",
      "  --select-limit=#    Automatic limit for SELECT when using --safe-updates.\n",
      "  --max-join-size=#   Automatic limit for rows in a join when using\n",
      "                      --safe-updates.\n",
      "  --secure-auth       Refuse client connecting to server if it uses old\n",
      "                      (pre-4.1.1) protocol. Deprecated. Always TRUE\n",
      "  --server-arg=name   Send embedded server this as a parameter.\n",
      "  --show-warnings     Show warnings after every statement.\n",
      "  -j, --syslog        Log filtered interactive commands to syslog. Filtering of\n",
      "                      commands depends on the patterns supplied via histignore\n",
      "                      option besides the default patterns.\n",
      "  --plugin-dir=name   Directory for client-side plugins.\n",
      "  --default-auth=name Default authentication client-side plugin to use.\n",
      "  --binary-mode       By default, ASCII '\\0' is disallowed and '\\r\\n' is\n",
      "                      translated to '\\n'. This switch turns off both features,\n",
      "                      and also turns off parsing of all clientcommands except\n",
      "                      \\C and DELIMITER, in non-interactive mode (for input\n",
      "                      piped to mysql or loaded using the 'source' command).\n",
      "                      This is necessary when processing output from mysqlbinlog\n",
      "                      that may contain blobs.\n",
      "  --connect-expired-password \n",
      "                      Notify the server that this client is prepared to handle\n",
      "                      expired password sandbox mode.\n",
      "\n",
      "Default options are read from the following files in the given order:\n",
      "/etc/my.cnf /etc/mysql/my.cnf ~/.my.cnf \n",
      "The following groups are read: mysql client\n",
      "The following options may be given as the first argument:\n",
      "--print-defaults        Print the program argument list and exit.\n",
      "--no-defaults           Don't read default options from any option file,\n",
      "                        except for login file.\n",
      "--defaults-file=#       Only read default options from the given file #.\n",
      "--defaults-extra-file=# Read this file after the global files are read.\n",
      "--defaults-group-suffix=#\n",
      "                        Also read groups with concat(group, suffix)\n",
      "--login-path=#          Read this path from the login file.\n",
      "\n",
      "Variables (--variable-name=value)\n",
      "and boolean options {FALSE|TRUE}  Value (after reading options)\n",
      "--------------------------------- ----------------------------------------\n",
      "auto-rehash                       TRUE\n",
      "auto-vertical-output              FALSE\n",
      "bind-address                      (No default value)\n",
      "binary-as-hex                     FALSE\n",
      "character-sets-dir                (No default value)\n",
      "column-type-info                  FALSE\n",
      "comments                          FALSE\n",
      "compress                          FALSE\n",
      "database                          (No default value)\n",
      "default-character-set             auto\n",
      "delimiter                         ;\n",
      "enable-cleartext-plugin           FALSE\n",
      "vertical                          FALSE\n",
      "force                             FALSE\n",
      "histignore                        (No default value)\n",
      "named-commands                    FALSE\n",
      "ignore-spaces                     FALSE\n",
      "init-command                      (No default value)\n",
      "local-infile                      FALSE\n",
      "no-beep                           FALSE\n",
      "host                              (No default value)\n",
      "html                              FALSE\n",
      "xml                               FALSE\n",
      "line-numbers                      TRUE\n",
      "unbuffered                        FALSE\n",
      "column-names                      TRUE\n",
      "sigint-ignore                     FALSE\n",
      "port                              0\n",
      "prompt                            mysql> \n",
      "quick                             FALSE\n",
      "raw                               FALSE\n",
      "reconnect                         FALSE\n",
      "socket                            (No default value)\n",
      "ssl                               TRUE\n",
      "ssl-verify-server-cert            FALSE\n",
      "ssl-ca                            (No default value)\n",
      "ssl-capath                        (No default value)\n",
      "ssl-cert                          (No default value)\n",
      "ssl-cipher                        (No default value)\n",
      "ssl-key                           (No default value)\n",
      "ssl-crl                           (No default value)\n",
      "ssl-crlpath                       (No default value)\n",
      "tls-version                       (No default value)\n",
      "server-public-key-path            (No default value)\n",
      "get-server-public-key             FALSE\n",
      "table                             FALSE\n",
      "user                              root\n",
      "safe-updates                      FALSE\n",
      "i-am-a-dummy                      FALSE\n",
      "connect-timeout                   0\n",
      "max-allowed-packet                16777216\n",
      "net-buffer-length                 16384\n",
      "select-limit                      1000\n",
      "max-join-size                     1000000\n",
      "secure-auth                       TRUE\n",
      "show-warnings                     FALSE\n",
      "plugin-dir                        (No default value)\n",
      "default-auth                      (No default value)\n",
      "binary-mode                       FALSE\n",
      "connect-expired-password          FALSE\n"
     ]
    }
   ],
   "source": [
    "!mysql -u root -p '' sakila < sakila-db/sakila-schema.sql\n",
    "!mysql -u root -p '' sakila < sakila-db/sakila-data.sql"
   ]
  },
  {
   "cell_type": "markdown",
   "metadata": {},
   "source": [
    "5. Ara, importem la llibreria del connector python-mysql que hem instalat al pas 1. Aprofitem per connectar amb la base de dades sakila, que ja ha estat importada al pas anterior."
   ]
  },
  {
   "cell_type": "code",
   "execution_count": 2,
   "metadata": {
    "colab": {
     "base_uri": "https://localhost:8080/",
     "height": 425
    },
    "executionInfo": {
     "elapsed": 503,
     "status": "error",
     "timestamp": 1636526418073,
     "user": {
      "displayName": "Antoni Oliver Gelabert",
      "photoUrl": "https://lh3.googleusercontent.com/a-/AOh14GjQ0rAw8BJg_Ls9vocEKihb6s5D-13X7ZeQ5HPT=s64",
      "userId": "16377567832988269837"
     },
     "user_tz": -60
    },
    "id": "Mm-nV2y__bol",
    "outputId": "5ee3f299-c491-4ecf-f64a-655f49c31cd3"
   },
   "outputs": [],
   "source": [
    "import mysql.connector\n",
    "\n",
    "mydb = mysql.connector.connect(\n",
    "  host=\"localhost\",\n",
    "  user=\"root\",\n",
    "  password=\"\",\n",
    "  database=\"sakila\"\n",
    ")"
   ]
  },
  {
   "cell_type": "markdown",
   "metadata": {
    "executionInfo": {
     "elapsed": 270,
     "status": "aborted",
     "timestamp": 1636526418061,
     "user": {
      "displayName": "Antoni Oliver Gelabert",
      "photoUrl": "https://lh3.googleusercontent.com/a-/AOh14GjQ0rAw8BJg_Ls9vocEKihb6s5D-13X7ZeQ5HPT=s64",
      "userId": "16377567832988269837"
     },
     "user_tz": -60
    },
    "id": "N3KdnFcm_bol"
   },
   "source": [
    "6. Salvam la consulta a la taula actors dins una llista anomenada myresult i amb un loop obtenim per pantalla les dades de la taula."
   ]
  },
  {
   "cell_type": "code",
   "execution_count": 47,
   "metadata": {
    "executionInfo": {
     "elapsed": 271,
     "status": "aborted",
     "timestamp": 1636526418062,
     "user": {
      "displayName": "Antoni Oliver Gelabert",
      "photoUrl": "https://lh3.googleusercontent.com/a-/AOh14GjQ0rAw8BJg_Ls9vocEKihb6s5D-13X7ZeQ5HPT=s64",
      "userId": "16377567832988269837"
     },
     "user_tz": -60
    },
    "id": "tvM-DyX2_bom"
   },
   "outputs": [
    {
     "name": "stdout",
     "output_type": "stream",
     "text": [
      "(1, 'PENELOPE', 'GUINESS', datetime.datetime(2006, 2, 15, 4, 34, 33))\n",
      "(2, 'NICK', 'WAHLBERG', datetime.datetime(2006, 2, 15, 4, 34, 33))\n",
      "(3, 'ED', 'CHASE', datetime.datetime(2006, 2, 15, 4, 34, 33))\n",
      "(4, 'JENNIFER', 'DAVIS', datetime.datetime(2006, 2, 15, 4, 34, 33))\n",
      "(5, 'JOHNNY', 'LOLLOBRIGIDA', datetime.datetime(2006, 2, 15, 4, 34, 33))\n",
      "(6, 'BETTE', 'NICHOLSON', datetime.datetime(2006, 2, 15, 4, 34, 33))\n",
      "(7, 'GRACE', 'MOSTEL', datetime.datetime(2006, 2, 15, 4, 34, 33))\n",
      "(8, 'MATTHEW', 'JOHANSSON', datetime.datetime(2006, 2, 15, 4, 34, 33))\n",
      "(9, 'JOE', 'SWANK', datetime.datetime(2006, 2, 15, 4, 34, 33))\n",
      "(10, 'CHRISTIAN', 'GABLE', datetime.datetime(2006, 2, 15, 4, 34, 33))\n",
      "(11, 'ZERO', 'CAGE', datetime.datetime(2006, 2, 15, 4, 34, 33))\n",
      "(12, 'KARL', 'BERRY', datetime.datetime(2006, 2, 15, 4, 34, 33))\n",
      "(13, 'UMA', 'WOOD', datetime.datetime(2006, 2, 15, 4, 34, 33))\n",
      "(14, 'VIVIEN', 'BERGEN', datetime.datetime(2006, 2, 15, 4, 34, 33))\n",
      "(15, 'CUBA', 'OLIVIER', datetime.datetime(2006, 2, 15, 4, 34, 33))\n",
      "(16, 'FRED', 'COSTNER', datetime.datetime(2006, 2, 15, 4, 34, 33))\n",
      "(17, 'HELEN', 'VOIGHT', datetime.datetime(2006, 2, 15, 4, 34, 33))\n",
      "(18, 'DAN', 'TORN', datetime.datetime(2006, 2, 15, 4, 34, 33))\n",
      "(19, 'BOB', 'FAWCETT', datetime.datetime(2006, 2, 15, 4, 34, 33))\n",
      "(20, 'LUCILLE', 'TRACY', datetime.datetime(2006, 2, 15, 4, 34, 33))\n",
      "(21, 'KIRSTEN', 'PALTROW', datetime.datetime(2006, 2, 15, 4, 34, 33))\n",
      "(22, 'ELVIS', 'MARX', datetime.datetime(2006, 2, 15, 4, 34, 33))\n",
      "(23, 'SANDRA', 'KILMER', datetime.datetime(2006, 2, 15, 4, 34, 33))\n",
      "(24, 'CAMERON', 'STREEP', datetime.datetime(2006, 2, 15, 4, 34, 33))\n",
      "(25, 'KEVIN', 'BLOOM', datetime.datetime(2006, 2, 15, 4, 34, 33))\n",
      "(26, 'RIP', 'CRAWFORD', datetime.datetime(2006, 2, 15, 4, 34, 33))\n",
      "(27, 'JULIA', 'MCQUEEN', datetime.datetime(2006, 2, 15, 4, 34, 33))\n",
      "(28, 'WOODY', 'HOFFMAN', datetime.datetime(2006, 2, 15, 4, 34, 33))\n",
      "(29, 'ALEC', 'WAYNE', datetime.datetime(2006, 2, 15, 4, 34, 33))\n",
      "(30, 'SANDRA', 'PECK', datetime.datetime(2006, 2, 15, 4, 34, 33))\n",
      "(31, 'SISSY', 'SOBIESKI', datetime.datetime(2006, 2, 15, 4, 34, 33))\n",
      "(32, 'TIM', 'HACKMAN', datetime.datetime(2006, 2, 15, 4, 34, 33))\n",
      "(33, 'MILLA', 'PECK', datetime.datetime(2006, 2, 15, 4, 34, 33))\n",
      "(34, 'AUDREY', 'OLIVIER', datetime.datetime(2006, 2, 15, 4, 34, 33))\n",
      "(35, 'JUDY', 'DEAN', datetime.datetime(2006, 2, 15, 4, 34, 33))\n",
      "(36, 'BURT', 'DUKAKIS', datetime.datetime(2006, 2, 15, 4, 34, 33))\n",
      "(37, 'VAL', 'BOLGER', datetime.datetime(2006, 2, 15, 4, 34, 33))\n",
      "(38, 'TOM', 'MCKELLEN', datetime.datetime(2006, 2, 15, 4, 34, 33))\n",
      "(39, 'GOLDIE', 'BRODY', datetime.datetime(2006, 2, 15, 4, 34, 33))\n",
      "(40, 'JOHNNY', 'CAGE', datetime.datetime(2006, 2, 15, 4, 34, 33))\n",
      "(41, 'JODIE', 'DEGENERES', datetime.datetime(2006, 2, 15, 4, 34, 33))\n",
      "(42, 'TOM', 'MIRANDA', datetime.datetime(2006, 2, 15, 4, 34, 33))\n",
      "(43, 'KIRK', 'JOVOVICH', datetime.datetime(2006, 2, 15, 4, 34, 33))\n",
      "(44, 'NICK', 'STALLONE', datetime.datetime(2006, 2, 15, 4, 34, 33))\n",
      "(45, 'REESE', 'KILMER', datetime.datetime(2006, 2, 15, 4, 34, 33))\n",
      "(46, 'PARKER', 'GOLDBERG', datetime.datetime(2006, 2, 15, 4, 34, 33))\n",
      "(47, 'JULIA', 'BARRYMORE', datetime.datetime(2006, 2, 15, 4, 34, 33))\n",
      "(48, 'FRANCES', 'DAY-LEWIS', datetime.datetime(2006, 2, 15, 4, 34, 33))\n",
      "(49, 'ANNE', 'CRONYN', datetime.datetime(2006, 2, 15, 4, 34, 33))\n",
      "(50, 'NATALIE', 'HOPKINS', datetime.datetime(2006, 2, 15, 4, 34, 33))\n",
      "(51, 'GARY', 'PHOENIX', datetime.datetime(2006, 2, 15, 4, 34, 33))\n",
      "(52, 'CARMEN', 'HUNT', datetime.datetime(2006, 2, 15, 4, 34, 33))\n",
      "(53, 'MENA', 'TEMPLE', datetime.datetime(2006, 2, 15, 4, 34, 33))\n",
      "(54, 'PENELOPE', 'PINKETT', datetime.datetime(2006, 2, 15, 4, 34, 33))\n",
      "(55, 'FAY', 'KILMER', datetime.datetime(2006, 2, 15, 4, 34, 33))\n",
      "(56, 'DAN', 'HARRIS', datetime.datetime(2006, 2, 15, 4, 34, 33))\n",
      "(57, 'JUDE', 'CRUISE', datetime.datetime(2006, 2, 15, 4, 34, 33))\n",
      "(58, 'CHRISTIAN', 'AKROYD', datetime.datetime(2006, 2, 15, 4, 34, 33))\n",
      "(59, 'DUSTIN', 'TAUTOU', datetime.datetime(2006, 2, 15, 4, 34, 33))\n",
      "(60, 'HENRY', 'BERRY', datetime.datetime(2006, 2, 15, 4, 34, 33))\n",
      "(61, 'CHRISTIAN', 'NEESON', datetime.datetime(2006, 2, 15, 4, 34, 33))\n",
      "(62, 'JAYNE', 'NEESON', datetime.datetime(2006, 2, 15, 4, 34, 33))\n",
      "(63, 'CAMERON', 'WRAY', datetime.datetime(2006, 2, 15, 4, 34, 33))\n",
      "(64, 'RAY', 'JOHANSSON', datetime.datetime(2006, 2, 15, 4, 34, 33))\n",
      "(65, 'ANGELA', 'HUDSON', datetime.datetime(2006, 2, 15, 4, 34, 33))\n",
      "(66, 'MARY', 'TANDY', datetime.datetime(2006, 2, 15, 4, 34, 33))\n",
      "(67, 'JESSICA', 'BAILEY', datetime.datetime(2006, 2, 15, 4, 34, 33))\n",
      "(68, 'RIP', 'WINSLET', datetime.datetime(2006, 2, 15, 4, 34, 33))\n",
      "(69, 'KENNETH', 'PALTROW', datetime.datetime(2006, 2, 15, 4, 34, 33))\n",
      "(70, 'MICHELLE', 'MCCONAUGHEY', datetime.datetime(2006, 2, 15, 4, 34, 33))\n",
      "(71, 'ADAM', 'GRANT', datetime.datetime(2006, 2, 15, 4, 34, 33))\n",
      "(72, 'SEAN', 'WILLIAMS', datetime.datetime(2006, 2, 15, 4, 34, 33))\n",
      "(73, 'GARY', 'PENN', datetime.datetime(2006, 2, 15, 4, 34, 33))\n",
      "(74, 'MILLA', 'KEITEL', datetime.datetime(2006, 2, 15, 4, 34, 33))\n",
      "(75, 'BURT', 'POSEY', datetime.datetime(2006, 2, 15, 4, 34, 33))\n",
      "(76, 'ANGELINA', 'ASTAIRE', datetime.datetime(2006, 2, 15, 4, 34, 33))\n",
      "(77, 'CARY', 'MCCONAUGHEY', datetime.datetime(2006, 2, 15, 4, 34, 33))\n",
      "(78, 'GROUCHO', 'SINATRA', datetime.datetime(2006, 2, 15, 4, 34, 33))\n",
      "(79, 'MAE', 'HOFFMAN', datetime.datetime(2006, 2, 15, 4, 34, 33))\n",
      "(80, 'RALPH', 'CRUZ', datetime.datetime(2006, 2, 15, 4, 34, 33))\n",
      "(81, 'SCARLETT', 'DAMON', datetime.datetime(2006, 2, 15, 4, 34, 33))\n",
      "(82, 'WOODY', 'JOLIE', datetime.datetime(2006, 2, 15, 4, 34, 33))\n",
      "(83, 'BEN', 'WILLIS', datetime.datetime(2006, 2, 15, 4, 34, 33))\n",
      "(84, 'JAMES', 'PITT', datetime.datetime(2006, 2, 15, 4, 34, 33))\n",
      "(85, 'MINNIE', 'ZELLWEGER', datetime.datetime(2006, 2, 15, 4, 34, 33))\n",
      "(86, 'GREG', 'CHAPLIN', datetime.datetime(2006, 2, 15, 4, 34, 33))\n",
      "(87, 'SPENCER', 'PECK', datetime.datetime(2006, 2, 15, 4, 34, 33))\n",
      "(88, 'KENNETH', 'PESCI', datetime.datetime(2006, 2, 15, 4, 34, 33))\n",
      "(89, 'CHARLIZE', 'DENCH', datetime.datetime(2006, 2, 15, 4, 34, 33))\n",
      "(90, 'SEAN', 'GUINESS', datetime.datetime(2006, 2, 15, 4, 34, 33))\n",
      "(91, 'CHRISTOPHER', 'BERRY', datetime.datetime(2006, 2, 15, 4, 34, 33))\n",
      "(92, 'KIRSTEN', 'AKROYD', datetime.datetime(2006, 2, 15, 4, 34, 33))\n",
      "(93, 'ELLEN', 'PRESLEY', datetime.datetime(2006, 2, 15, 4, 34, 33))\n",
      "(94, 'KENNETH', 'TORN', datetime.datetime(2006, 2, 15, 4, 34, 33))\n",
      "(95, 'DARYL', 'WAHLBERG', datetime.datetime(2006, 2, 15, 4, 34, 33))\n",
      "(96, 'GENE', 'WILLIS', datetime.datetime(2006, 2, 15, 4, 34, 33))\n",
      "(97, 'MEG', 'HAWKE', datetime.datetime(2006, 2, 15, 4, 34, 33))\n",
      "(98, 'CHRIS', 'BRIDGES', datetime.datetime(2006, 2, 15, 4, 34, 33))\n",
      "(99, 'JIM', 'MOSTEL', datetime.datetime(2006, 2, 15, 4, 34, 33))\n",
      "(100, 'SPENCER', 'DEPP', datetime.datetime(2006, 2, 15, 4, 34, 33))\n",
      "(101, 'SUSAN', 'DAVIS', datetime.datetime(2006, 2, 15, 4, 34, 33))\n",
      "(102, 'WALTER', 'TORN', datetime.datetime(2006, 2, 15, 4, 34, 33))\n",
      "(103, 'MATTHEW', 'LEIGH', datetime.datetime(2006, 2, 15, 4, 34, 33))\n",
      "(104, 'PENELOPE', 'CRONYN', datetime.datetime(2006, 2, 15, 4, 34, 33))\n",
      "(105, 'SIDNEY', 'CROWE', datetime.datetime(2006, 2, 15, 4, 34, 33))\n",
      "(106, 'GROUCHO', 'DUNST', datetime.datetime(2006, 2, 15, 4, 34, 33))\n",
      "(107, 'GINA', 'DEGENERES', datetime.datetime(2006, 2, 15, 4, 34, 33))\n",
      "(108, 'WARREN', 'NOLTE', datetime.datetime(2006, 2, 15, 4, 34, 33))\n",
      "(109, 'SYLVESTER', 'DERN', datetime.datetime(2006, 2, 15, 4, 34, 33))\n",
      "(110, 'SUSAN', 'DAVIS', datetime.datetime(2006, 2, 15, 4, 34, 33))\n",
      "(111, 'CAMERON', 'ZELLWEGER', datetime.datetime(2006, 2, 15, 4, 34, 33))\n",
      "(112, 'RUSSELL', 'BACALL', datetime.datetime(2006, 2, 15, 4, 34, 33))\n",
      "(113, 'MORGAN', 'HOPKINS', datetime.datetime(2006, 2, 15, 4, 34, 33))\n",
      "(114, 'MORGAN', 'MCDORMAND', datetime.datetime(2006, 2, 15, 4, 34, 33))\n",
      "(115, 'HARRISON', 'BALE', datetime.datetime(2006, 2, 15, 4, 34, 33))\n",
      "(116, 'DAN', 'STREEP', datetime.datetime(2006, 2, 15, 4, 34, 33))\n",
      "(117, 'RENEE', 'TRACY', datetime.datetime(2006, 2, 15, 4, 34, 33))\n",
      "(118, 'CUBA', 'ALLEN', datetime.datetime(2006, 2, 15, 4, 34, 33))\n",
      "(119, 'WARREN', 'JACKMAN', datetime.datetime(2006, 2, 15, 4, 34, 33))\n",
      "(120, 'PENELOPE', 'MONROE', datetime.datetime(2006, 2, 15, 4, 34, 33))\n",
      "(121, 'LIZA', 'BERGMAN', datetime.datetime(2006, 2, 15, 4, 34, 33))\n",
      "(122, 'SALMA', 'NOLTE', datetime.datetime(2006, 2, 15, 4, 34, 33))\n",
      "(123, 'JULIANNE', 'DENCH', datetime.datetime(2006, 2, 15, 4, 34, 33))\n",
      "(124, 'SCARLETT', 'BENING', datetime.datetime(2006, 2, 15, 4, 34, 33))\n",
      "(125, 'ALBERT', 'NOLTE', datetime.datetime(2006, 2, 15, 4, 34, 33))\n",
      "(126, 'FRANCES', 'TOMEI', datetime.datetime(2006, 2, 15, 4, 34, 33))\n",
      "(127, 'KEVIN', 'GARLAND', datetime.datetime(2006, 2, 15, 4, 34, 33))\n",
      "(128, 'CATE', 'MCQUEEN', datetime.datetime(2006, 2, 15, 4, 34, 33))\n",
      "(129, 'DARYL', 'CRAWFORD', datetime.datetime(2006, 2, 15, 4, 34, 33))\n",
      "(130, 'GRETA', 'KEITEL', datetime.datetime(2006, 2, 15, 4, 34, 33))\n",
      "(131, 'JANE', 'JACKMAN', datetime.datetime(2006, 2, 15, 4, 34, 33))\n",
      "(132, 'ADAM', 'HOPPER', datetime.datetime(2006, 2, 15, 4, 34, 33))\n",
      "(133, 'RICHARD', 'PENN', datetime.datetime(2006, 2, 15, 4, 34, 33))\n",
      "(134, 'GENE', 'HOPKINS', datetime.datetime(2006, 2, 15, 4, 34, 33))\n",
      "(135, 'RITA', 'REYNOLDS', datetime.datetime(2006, 2, 15, 4, 34, 33))\n",
      "(136, 'ED', 'MANSFIELD', datetime.datetime(2006, 2, 15, 4, 34, 33))\n",
      "(137, 'MORGAN', 'WILLIAMS', datetime.datetime(2006, 2, 15, 4, 34, 33))\n",
      "(138, 'LUCILLE', 'DEE', datetime.datetime(2006, 2, 15, 4, 34, 33))\n",
      "(139, 'EWAN', 'GOODING', datetime.datetime(2006, 2, 15, 4, 34, 33))\n",
      "(140, 'WHOOPI', 'HURT', datetime.datetime(2006, 2, 15, 4, 34, 33))\n",
      "(141, 'CATE', 'HARRIS', datetime.datetime(2006, 2, 15, 4, 34, 33))\n",
      "(142, 'JADA', 'RYDER', datetime.datetime(2006, 2, 15, 4, 34, 33))\n",
      "(143, 'RIVER', 'DEAN', datetime.datetime(2006, 2, 15, 4, 34, 33))\n",
      "(144, 'ANGELA', 'WITHERSPOON', datetime.datetime(2006, 2, 15, 4, 34, 33))\n",
      "(145, 'KIM', 'ALLEN', datetime.datetime(2006, 2, 15, 4, 34, 33))\n",
      "(146, 'ALBERT', 'JOHANSSON', datetime.datetime(2006, 2, 15, 4, 34, 33))\n",
      "(147, 'FAY', 'WINSLET', datetime.datetime(2006, 2, 15, 4, 34, 33))\n",
      "(148, 'EMILY', 'DEE', datetime.datetime(2006, 2, 15, 4, 34, 33))\n",
      "(149, 'RUSSELL', 'TEMPLE', datetime.datetime(2006, 2, 15, 4, 34, 33))\n",
      "(150, 'JAYNE', 'NOLTE', datetime.datetime(2006, 2, 15, 4, 34, 33))\n",
      "(151, 'GEOFFREY', 'HESTON', datetime.datetime(2006, 2, 15, 4, 34, 33))\n",
      "(152, 'BEN', 'HARRIS', datetime.datetime(2006, 2, 15, 4, 34, 33))\n",
      "(153, 'MINNIE', 'KILMER', datetime.datetime(2006, 2, 15, 4, 34, 33))\n",
      "(154, 'MERYL', 'GIBSON', datetime.datetime(2006, 2, 15, 4, 34, 33))\n",
      "(155, 'IAN', 'TANDY', datetime.datetime(2006, 2, 15, 4, 34, 33))\n",
      "(156, 'FAY', 'WOOD', datetime.datetime(2006, 2, 15, 4, 34, 33))\n",
      "(157, 'GRETA', 'MALDEN', datetime.datetime(2006, 2, 15, 4, 34, 33))\n",
      "(158, 'VIVIEN', 'BASINGER', datetime.datetime(2006, 2, 15, 4, 34, 33))\n",
      "(159, 'LAURA', 'BRODY', datetime.datetime(2006, 2, 15, 4, 34, 33))\n",
      "(160, 'CHRIS', 'DEPP', datetime.datetime(2006, 2, 15, 4, 34, 33))\n",
      "(161, 'HARVEY', 'HOPE', datetime.datetime(2006, 2, 15, 4, 34, 33))\n",
      "(162, 'OPRAH', 'KILMER', datetime.datetime(2006, 2, 15, 4, 34, 33))\n",
      "(163, 'CHRISTOPHER', 'WEST', datetime.datetime(2006, 2, 15, 4, 34, 33))\n",
      "(164, 'HUMPHREY', 'WILLIS', datetime.datetime(2006, 2, 15, 4, 34, 33))\n",
      "(165, 'AL', 'GARLAND', datetime.datetime(2006, 2, 15, 4, 34, 33))\n",
      "(166, 'NICK', 'DEGENERES', datetime.datetime(2006, 2, 15, 4, 34, 33))\n",
      "(167, 'LAURENCE', 'BULLOCK', datetime.datetime(2006, 2, 15, 4, 34, 33))\n",
      "(168, 'WILL', 'WILSON', datetime.datetime(2006, 2, 15, 4, 34, 33))\n",
      "(169, 'KENNETH', 'HOFFMAN', datetime.datetime(2006, 2, 15, 4, 34, 33))\n",
      "(170, 'MENA', 'HOPPER', datetime.datetime(2006, 2, 15, 4, 34, 33))\n",
      "(171, 'OLYMPIA', 'PFEIFFER', datetime.datetime(2006, 2, 15, 4, 34, 33))\n",
      "(172, 'GROUCHO', 'WILLIAMS', datetime.datetime(2006, 2, 15, 4, 34, 33))\n",
      "(173, 'ALAN', 'DREYFUSS', datetime.datetime(2006, 2, 15, 4, 34, 33))\n",
      "(174, 'MICHAEL', 'BENING', datetime.datetime(2006, 2, 15, 4, 34, 33))\n",
      "(175, 'WILLIAM', 'HACKMAN', datetime.datetime(2006, 2, 15, 4, 34, 33))\n",
      "(176, 'JON', 'CHASE', datetime.datetime(2006, 2, 15, 4, 34, 33))\n",
      "(177, 'GENE', 'MCKELLEN', datetime.datetime(2006, 2, 15, 4, 34, 33))\n",
      "(178, 'LISA', 'MONROE', datetime.datetime(2006, 2, 15, 4, 34, 33))\n",
      "(179, 'ED', 'GUINESS', datetime.datetime(2006, 2, 15, 4, 34, 33))\n",
      "(180, 'JEFF', 'SILVERSTONE', datetime.datetime(2006, 2, 15, 4, 34, 33))\n",
      "(181, 'MATTHEW', 'CARREY', datetime.datetime(2006, 2, 15, 4, 34, 33))\n",
      "(182, 'DEBBIE', 'AKROYD', datetime.datetime(2006, 2, 15, 4, 34, 33))\n",
      "(183, 'RUSSELL', 'CLOSE', datetime.datetime(2006, 2, 15, 4, 34, 33))\n",
      "(184, 'HUMPHREY', 'GARLAND', datetime.datetime(2006, 2, 15, 4, 34, 33))\n",
      "(185, 'MICHAEL', 'BOLGER', datetime.datetime(2006, 2, 15, 4, 34, 33))\n",
      "(186, 'JULIA', 'ZELLWEGER', datetime.datetime(2006, 2, 15, 4, 34, 33))\n",
      "(187, 'RENEE', 'BALL', datetime.datetime(2006, 2, 15, 4, 34, 33))\n",
      "(188, 'ROCK', 'DUKAKIS', datetime.datetime(2006, 2, 15, 4, 34, 33))\n",
      "(189, 'CUBA', 'BIRCH', datetime.datetime(2006, 2, 15, 4, 34, 33))\n",
      "(190, 'AUDREY', 'BAILEY', datetime.datetime(2006, 2, 15, 4, 34, 33))\n",
      "(191, 'GREGORY', 'GOODING', datetime.datetime(2006, 2, 15, 4, 34, 33))\n",
      "(192, 'JOHN', 'SUVARI', datetime.datetime(2006, 2, 15, 4, 34, 33))\n",
      "(193, 'BURT', 'TEMPLE', datetime.datetime(2006, 2, 15, 4, 34, 33))\n",
      "(194, 'MERYL', 'ALLEN', datetime.datetime(2006, 2, 15, 4, 34, 33))\n",
      "(195, 'JAYNE', 'SILVERSTONE', datetime.datetime(2006, 2, 15, 4, 34, 33))\n",
      "(196, 'BELA', 'WALKEN', datetime.datetime(2006, 2, 15, 4, 34, 33))\n",
      "(197, 'REESE', 'WEST', datetime.datetime(2006, 2, 15, 4, 34, 33))\n",
      "(198, 'MARY', 'KEITEL', datetime.datetime(2006, 2, 15, 4, 34, 33))\n",
      "(199, 'JULIA', 'FAWCETT', datetime.datetime(2006, 2, 15, 4, 34, 33))\n",
      "(200, 'THORA', 'TEMPLE', datetime.datetime(2006, 2, 15, 4, 34, 33))\n"
     ]
    }
   ],
   "source": [
    "mycursor = mydb.cursor()\n",
    "mycursor.execute(\"SELECT * FROM actor\")\n",
    "myresult = mycursor.fetchall()\n",
    "\n",
    "for x in myresult:\n",
    "    print(x)"
   ]
  },
  {
   "cell_type": "markdown",
   "metadata": {},
   "source": [
    "7. Mostram nomes les 10 primeres tuples-files-registres"
   ]
  },
  {
   "cell_type": "code",
   "execution_count": 48,
   "metadata": {
    "executionInfo": {
     "elapsed": 272,
     "status": "aborted",
     "timestamp": 1636526418063,
     "user": {
      "displayName": "Antoni Oliver Gelabert",
      "photoUrl": "https://lh3.googleusercontent.com/a-/AOh14GjQ0rAw8BJg_Ls9vocEKihb6s5D-13X7ZeQ5HPT=s64",
      "userId": "16377567832988269837"
     },
     "user_tz": -60
    },
    "id": "CVOFq5oK_bon"
   },
   "outputs": [
    {
     "data": {
      "text/plain": [
       "[(1, 'PENELOPE', 'GUINESS', datetime.datetime(2006, 2, 15, 4, 34, 33)),\n",
       " (2, 'NICK', 'WAHLBERG', datetime.datetime(2006, 2, 15, 4, 34, 33)),\n",
       " (3, 'ED', 'CHASE', datetime.datetime(2006, 2, 15, 4, 34, 33)),\n",
       " (4, 'JENNIFER', 'DAVIS', datetime.datetime(2006, 2, 15, 4, 34, 33)),\n",
       " (5, 'JOHNNY', 'LOLLOBRIGIDA', datetime.datetime(2006, 2, 15, 4, 34, 33)),\n",
       " (6, 'BETTE', 'NICHOLSON', datetime.datetime(2006, 2, 15, 4, 34, 33)),\n",
       " (7, 'GRACE', 'MOSTEL', datetime.datetime(2006, 2, 15, 4, 34, 33)),\n",
       " (8, 'MATTHEW', 'JOHANSSON', datetime.datetime(2006, 2, 15, 4, 34, 33)),\n",
       " (9, 'JOE', 'SWANK', datetime.datetime(2006, 2, 15, 4, 34, 33)),\n",
       " (10, 'CHRISTIAN', 'GABLE', datetime.datetime(2006, 2, 15, 4, 34, 33))]"
      ]
     },
     "execution_count": 48,
     "metadata": {},
     "output_type": "execute_result"
    }
   ],
   "source": [
    "myresult[:10]"
   ]
  },
  {
   "cell_type": "markdown",
   "metadata": {},
   "source": [
    "8. Mostrem nomes la tupla 1 (en realitat es la segona tupla, ja que python compta a partir del zero)"
   ]
  },
  {
   "cell_type": "code",
   "execution_count": 49,
   "metadata": {
    "executionInfo": {
     "elapsed": 271,
     "status": "aborted",
     "timestamp": 1636526418063,
     "user": {
      "displayName": "Antoni Oliver Gelabert",
      "photoUrl": "https://lh3.googleusercontent.com/a-/AOh14GjQ0rAw8BJg_Ls9vocEKihb6s5D-13X7ZeQ5HPT=s64",
      "userId": "16377567832988269837"
     },
     "user_tz": -60
    },
    "id": "cBbqJkUU_boo"
   },
   "outputs": [
    {
     "data": {
      "text/plain": [
       "(2, 'NICK', 'WAHLBERG', datetime.datetime(2006, 2, 15, 4, 34, 33))"
      ]
     },
     "execution_count": 49,
     "metadata": {},
     "output_type": "execute_result"
    }
   ],
   "source": [
    "myresult[1]"
   ]
  },
  {
   "cell_type": "markdown",
   "metadata": {},
   "source": [
    "9. Mostrem l'atribut 2 (en realitat es el 3r perque python sempre compta el 0 com a 1r. Per tant, cognom de l'actor) de la tupla 5"
   ]
  },
  {
   "cell_type": "code",
   "execution_count": 50,
   "metadata": {
    "executionInfo": {
     "elapsed": 272,
     "status": "aborted",
     "timestamp": 1636526418064,
     "user": {
      "displayName": "Antoni Oliver Gelabert",
      "photoUrl": "https://lh3.googleusercontent.com/a-/AOh14GjQ0rAw8BJg_Ls9vocEKihb6s5D-13X7ZeQ5HPT=s64",
      "userId": "16377567832988269837"
     },
     "user_tz": -60
    },
    "id": "-QKO5iPb_bop"
   },
   "outputs": [
    {
     "data": {
      "text/plain": [
       "'NICHOLSON'"
      ]
     },
     "execution_count": 50,
     "metadata": {},
     "output_type": "execute_result"
    }
   ],
   "source": [
    "myresult[5][2]"
   ]
  },
  {
   "cell_type": "markdown",
   "metadata": {},
   "source": [
    "10. Importam la llibreria Pandas com a pd i guardam el resultat obtingut en la consulta dins un Dataframe "
   ]
  },
  {
   "cell_type": "code",
   "execution_count": 51,
   "metadata": {
    "executionInfo": {
     "elapsed": 274,
     "status": "aborted",
     "timestamp": 1636526418066,
     "user": {
      "displayName": "Antoni Oliver Gelabert",
      "photoUrl": "https://lh3.googleusercontent.com/a-/AOh14GjQ0rAw8BJg_Ls9vocEKihb6s5D-13X7ZeQ5HPT=s64",
      "userId": "16377567832988269837"
     },
     "user_tz": -60
    },
    "id": "MUL8zyd8_bor"
   },
   "outputs": [],
   "source": [
    "import pandas as pd\n",
    "df =[]\n",
    "df = pd.DataFrame(myresult, columns=['actor_id','first_name','last_name','timestamp'])"
   ]
  },
  {
   "cell_type": "markdown",
   "metadata": {},
   "source": [
    "11. Obtenim les 5 primeres linies del dataframe:"
   ]
  },
  {
   "cell_type": "code",
   "execution_count": 55,
   "metadata": {
    "executionInfo": {
     "elapsed": 273,
     "status": "aborted",
     "timestamp": 1636526418066,
     "user": {
      "displayName": "Antoni Oliver Gelabert",
      "photoUrl": "https://lh3.googleusercontent.com/a-/AOh14GjQ0rAw8BJg_Ls9vocEKihb6s5D-13X7ZeQ5HPT=s64",
      "userId": "16377567832988269837"
     },
     "user_tz": -60
    },
    "id": "x8L1qaPC_bor"
   },
   "outputs": [
    {
     "data": {
      "text/html": [
       "<div>\n",
       "<style scoped>\n",
       "    .dataframe tbody tr th:only-of-type {\n",
       "        vertical-align: middle;\n",
       "    }\n",
       "\n",
       "    .dataframe tbody tr th {\n",
       "        vertical-align: top;\n",
       "    }\n",
       "\n",
       "    .dataframe thead th {\n",
       "        text-align: right;\n",
       "    }\n",
       "</style>\n",
       "<table border=\"1\" class=\"dataframe\">\n",
       "  <thead>\n",
       "    <tr style=\"text-align: right;\">\n",
       "      <th></th>\n",
       "      <th>actor_id</th>\n",
       "      <th>first_name</th>\n",
       "      <th>last_name</th>\n",
       "      <th>timestamp</th>\n",
       "    </tr>\n",
       "  </thead>\n",
       "  <tbody>\n",
       "    <tr>\n",
       "      <th>0</th>\n",
       "      <td>1</td>\n",
       "      <td>PENELOPE</td>\n",
       "      <td>GUINESS</td>\n",
       "      <td>2006-02-15 04:34:33</td>\n",
       "    </tr>\n",
       "    <tr>\n",
       "      <th>1</th>\n",
       "      <td>2</td>\n",
       "      <td>NICK</td>\n",
       "      <td>WAHLBERG</td>\n",
       "      <td>2006-02-15 04:34:33</td>\n",
       "    </tr>\n",
       "    <tr>\n",
       "      <th>2</th>\n",
       "      <td>3</td>\n",
       "      <td>ED</td>\n",
       "      <td>CHASE</td>\n",
       "      <td>2006-02-15 04:34:33</td>\n",
       "    </tr>\n",
       "    <tr>\n",
       "      <th>3</th>\n",
       "      <td>4</td>\n",
       "      <td>JENNIFER</td>\n",
       "      <td>DAVIS</td>\n",
       "      <td>2006-02-15 04:34:33</td>\n",
       "    </tr>\n",
       "    <tr>\n",
       "      <th>4</th>\n",
       "      <td>5</td>\n",
       "      <td>JOHNNY</td>\n",
       "      <td>LOLLOBRIGIDA</td>\n",
       "      <td>2006-02-15 04:34:33</td>\n",
       "    </tr>\n",
       "  </tbody>\n",
       "</table>\n",
       "</div>"
      ],
      "text/plain": [
       "   actor_id first_name     last_name           timestamp\n",
       "0         1   PENELOPE       GUINESS 2006-02-15 04:34:33\n",
       "1         2       NICK      WAHLBERG 2006-02-15 04:34:33\n",
       "2         3         ED         CHASE 2006-02-15 04:34:33\n",
       "3         4   JENNIFER         DAVIS 2006-02-15 04:34:33\n",
       "4         5     JOHNNY  LOLLOBRIGIDA 2006-02-15 04:34:33"
      ]
     },
     "execution_count": 55,
     "metadata": {},
     "output_type": "execute_result"
    }
   ],
   "source": [
    "df.head()"
   ]
  },
  {
   "cell_type": "markdown",
   "metadata": {},
   "source": [
    "## Part II. Ara treballam amb la taula de pelicules, film."
   ]
  },
  {
   "cell_type": "markdown",
   "metadata": {},
   "source": [
    "12. Primer de tot importarem el nom de files de manera automatica i els guardarem dins labels a partir de la consulta \"desc film\" per obtenir el nom de les columnes"
   ]
  },
  {
   "cell_type": "code",
   "execution_count": 57,
   "metadata": {
    "executionInfo": {
     "elapsed": 274,
     "status": "aborted",
     "timestamp": 1636526418068,
     "user": {
      "displayName": "Antoni Oliver Gelabert",
      "photoUrl": "https://lh3.googleusercontent.com/a-/AOh14GjQ0rAw8BJg_Ls9vocEKihb6s5D-13X7ZeQ5HPT=s64",
      "userId": "16377567832988269837"
     },
     "user_tz": -60
    },
    "id": "--WDWY5B_bot"
   },
   "outputs": [
    {
     "name": "stdout",
     "output_type": "stream",
     "text": [
      "film_id\n",
      "title\n",
      "description\n",
      "release_year\n",
      "language_id\n",
      "original_language_id\n",
      "rental_duration\n",
      "rental_rate\n",
      "length\n",
      "replacement_cost\n",
      "rating\n",
      "special_features\n",
      "last_update\n"
     ]
    }
   ],
   "source": [
    "labels=[]\n",
    "mycursor = mydb.cursor()\n",
    "mycursor.execute(\"desc film\")\n",
    "myresult2 = mycursor.fetchall()\n",
    "for x in myresult2:\n",
    "    print(x[0])\n",
    "    labels.append(x[0])"
   ]
  },
  {
   "cell_type": "markdown",
   "metadata": {},
   "source": [
    "13. Ara, definim el dataframe de pelicules aprofitant la informacio salvada en labels per ja assignar automaticament la fila de noms de columnes a les dades. Tambe salvam la consulta sobre la taula de pelicules (films)"
   ]
  },
  {
   "cell_type": "code",
   "execution_count": 58,
   "metadata": {},
   "outputs": [],
   "source": [
    "mycursor = mydb.cursor()\n",
    "mycursor.execute(\"SELECT * FROM film\")\n",
    "myresult = mycursor.fetchall()\n",
    "df = pd.DataFrame(myresult, columns=labels)"
   ]
  },
  {
   "cell_type": "markdown",
   "metadata": {},
   "source": [
    "14. Observem les 5 primeres tuples del resutlat del DATAFRAME amb l'instruccio head"
   ]
  },
  {
   "cell_type": "code",
   "execution_count": 59,
   "metadata": {
    "executionInfo": {
     "elapsed": 275,
     "status": "aborted",
     "timestamp": 1636526418069,
     "user": {
      "displayName": "Antoni Oliver Gelabert",
      "photoUrl": "https://lh3.googleusercontent.com/a-/AOh14GjQ0rAw8BJg_Ls9vocEKihb6s5D-13X7ZeQ5HPT=s64",
      "userId": "16377567832988269837"
     },
     "user_tz": -60
    },
    "id": "BQ-rx7Gc_bou"
   },
   "outputs": [
    {
     "data": {
      "text/html": [
       "<div>\n",
       "<style scoped>\n",
       "    .dataframe tbody tr th:only-of-type {\n",
       "        vertical-align: middle;\n",
       "    }\n",
       "\n",
       "    .dataframe tbody tr th {\n",
       "        vertical-align: top;\n",
       "    }\n",
       "\n",
       "    .dataframe thead th {\n",
       "        text-align: right;\n",
       "    }\n",
       "</style>\n",
       "<table border=\"1\" class=\"dataframe\">\n",
       "  <thead>\n",
       "    <tr style=\"text-align: right;\">\n",
       "      <th></th>\n",
       "      <th>film_id</th>\n",
       "      <th>title</th>\n",
       "      <th>description</th>\n",
       "      <th>release_year</th>\n",
       "      <th>language_id</th>\n",
       "      <th>original_language_id</th>\n",
       "      <th>rental_duration</th>\n",
       "      <th>rental_rate</th>\n",
       "      <th>length</th>\n",
       "      <th>replacement_cost</th>\n",
       "      <th>rating</th>\n",
       "      <th>special_features</th>\n",
       "      <th>last_update</th>\n",
       "    </tr>\n",
       "  </thead>\n",
       "  <tbody>\n",
       "    <tr>\n",
       "      <th>0</th>\n",
       "      <td>1</td>\n",
       "      <td>ACADEMY DINOSAUR</td>\n",
       "      <td>A Epic Drama of a Feminist And a Mad Scientist...</td>\n",
       "      <td>2006</td>\n",
       "      <td>1</td>\n",
       "      <td>None</td>\n",
       "      <td>6</td>\n",
       "      <td>0.99</td>\n",
       "      <td>86</td>\n",
       "      <td>20.99</td>\n",
       "      <td>PG</td>\n",
       "      <td>{Deleted Scenes, Behind the Scenes}</td>\n",
       "      <td>2006-02-15 05:03:42</td>\n",
       "    </tr>\n",
       "    <tr>\n",
       "      <th>1</th>\n",
       "      <td>2</td>\n",
       "      <td>ACE GOLDFINGER</td>\n",
       "      <td>A Astounding Epistle of a Database Administrat...</td>\n",
       "      <td>2006</td>\n",
       "      <td>1</td>\n",
       "      <td>None</td>\n",
       "      <td>3</td>\n",
       "      <td>4.99</td>\n",
       "      <td>48</td>\n",
       "      <td>12.99</td>\n",
       "      <td>G</td>\n",
       "      <td>{Deleted Scenes, Trailers}</td>\n",
       "      <td>2006-02-15 05:03:42</td>\n",
       "    </tr>\n",
       "    <tr>\n",
       "      <th>2</th>\n",
       "      <td>3</td>\n",
       "      <td>ADAPTATION HOLES</td>\n",
       "      <td>A Astounding Reflection of a Lumberjack And a ...</td>\n",
       "      <td>2006</td>\n",
       "      <td>1</td>\n",
       "      <td>None</td>\n",
       "      <td>7</td>\n",
       "      <td>2.99</td>\n",
       "      <td>50</td>\n",
       "      <td>18.99</td>\n",
       "      <td>NC-17</td>\n",
       "      <td>{Deleted Scenes, Trailers}</td>\n",
       "      <td>2006-02-15 05:03:42</td>\n",
       "    </tr>\n",
       "    <tr>\n",
       "      <th>3</th>\n",
       "      <td>4</td>\n",
       "      <td>AFFAIR PREJUDICE</td>\n",
       "      <td>A Fanciful Documentary of a Frisbee And a Lumb...</td>\n",
       "      <td>2006</td>\n",
       "      <td>1</td>\n",
       "      <td>None</td>\n",
       "      <td>5</td>\n",
       "      <td>2.99</td>\n",
       "      <td>117</td>\n",
       "      <td>26.99</td>\n",
       "      <td>G</td>\n",
       "      <td>{Commentaries, Behind the Scenes}</td>\n",
       "      <td>2006-02-15 05:03:42</td>\n",
       "    </tr>\n",
       "    <tr>\n",
       "      <th>4</th>\n",
       "      <td>5</td>\n",
       "      <td>AFRICAN EGG</td>\n",
       "      <td>A Fast-Paced Documentary of a Pastry Chef And ...</td>\n",
       "      <td>2006</td>\n",
       "      <td>1</td>\n",
       "      <td>None</td>\n",
       "      <td>6</td>\n",
       "      <td>2.99</td>\n",
       "      <td>130</td>\n",
       "      <td>22.99</td>\n",
       "      <td>G</td>\n",
       "      <td>{Deleted Scenes}</td>\n",
       "      <td>2006-02-15 05:03:42</td>\n",
       "    </tr>\n",
       "  </tbody>\n",
       "</table>\n",
       "</div>"
      ],
      "text/plain": [
       "   film_id             title  \\\n",
       "0        1  ACADEMY DINOSAUR   \n",
       "1        2    ACE GOLDFINGER   \n",
       "2        3  ADAPTATION HOLES   \n",
       "3        4  AFFAIR PREJUDICE   \n",
       "4        5       AFRICAN EGG   \n",
       "\n",
       "                                         description  release_year  \\\n",
       "0  A Epic Drama of a Feminist And a Mad Scientist...          2006   \n",
       "1  A Astounding Epistle of a Database Administrat...          2006   \n",
       "2  A Astounding Reflection of a Lumberjack And a ...          2006   \n",
       "3  A Fanciful Documentary of a Frisbee And a Lumb...          2006   \n",
       "4  A Fast-Paced Documentary of a Pastry Chef And ...          2006   \n",
       "\n",
       "   language_id original_language_id  rental_duration rental_rate  length  \\\n",
       "0            1                 None                6        0.99      86   \n",
       "1            1                 None                3        4.99      48   \n",
       "2            1                 None                7        2.99      50   \n",
       "3            1                 None                5        2.99     117   \n",
       "4            1                 None                6        2.99     130   \n",
       "\n",
       "  replacement_cost rating                     special_features  \\\n",
       "0            20.99     PG  {Deleted Scenes, Behind the Scenes}   \n",
       "1            12.99      G           {Deleted Scenes, Trailers}   \n",
       "2            18.99  NC-17           {Deleted Scenes, Trailers}   \n",
       "3            26.99      G    {Commentaries, Behind the Scenes}   \n",
       "4            22.99      G                     {Deleted Scenes}   \n",
       "\n",
       "          last_update  \n",
       "0 2006-02-15 05:03:42  \n",
       "1 2006-02-15 05:03:42  \n",
       "2 2006-02-15 05:03:42  \n",
       "3 2006-02-15 05:03:42  \n",
       "4 2006-02-15 05:03:42  "
      ]
     },
     "execution_count": 59,
     "metadata": {},
     "output_type": "execute_result"
    }
   ],
   "source": [
    "df.head()"
   ]
  },
  {
   "cell_type": "markdown",
   "metadata": {},
   "source": [
    "15. Obtinguem una estadistica de la durada de les pelicules dins la base de dades sakila"
   ]
  },
  {
   "cell_type": "code",
   "execution_count": 67,
   "metadata": {
    "executionInfo": {
     "elapsed": 275,
     "status": "aborted",
     "timestamp": 1636526418070,
     "user": {
      "displayName": "Antoni Oliver Gelabert",
      "photoUrl": "https://lh3.googleusercontent.com/a-/AOh14GjQ0rAw8BJg_Ls9vocEKihb6s5D-13X7ZeQ5HPT=s64",
      "userId": "16377567832988269837"
     },
     "user_tz": -60
    },
    "id": "YhYqo3UA_bou"
   },
   "outputs": [
    {
     "data": {
      "text/plain": [
       "count    1000.000000\n",
       "mean      115.272000\n",
       "std        40.426332\n",
       "min        46.000000\n",
       "25%        80.000000\n",
       "50%       114.000000\n",
       "75%       149.250000\n",
       "max       185.000000\n",
       "Name: length, dtype: float64"
      ]
     },
     "execution_count": 67,
     "metadata": {},
     "output_type": "execute_result"
    }
   ],
   "source": [
    "df['length'].describe()"
   ]
  },
  {
   "cell_type": "markdown",
   "metadata": {},
   "source": [
    "16. Podem veure que els resultats indiquen una mitjana de 115 minuts de durada per unes 1000 pelicules. La desviacio tipica es de 40 minuts i la durada va entre els 46 minuts i els 185 minuts com a maxim."
   ]
  },
  {
   "cell_type": "markdown",
   "metadata": {},
   "source": [
    "17. Anem a veure mes detalls d'aquesta distribucio generant un histograma. Primer de tot importem matplotlib. Fer un histograma es tan simple com aixo:"
   ]
  },
  {
   "cell_type": "code",
   "execution_count": 68,
   "metadata": {
    "executionInfo": {
     "elapsed": 275,
     "status": "aborted",
     "timestamp": 1636526418070,
     "user": {
      "displayName": "Antoni Oliver Gelabert",
      "photoUrl": "https://lh3.googleusercontent.com/a-/AOh14GjQ0rAw8BJg_Ls9vocEKihb6s5D-13X7ZeQ5HPT=s64",
      "userId": "16377567832988269837"
     },
     "user_tz": -60
    },
    "id": "vxAy4i9s_bov"
   },
   "outputs": [
    {
     "data": {
      "image/png": "[encoded data removed]",
      "text/plain": [
       "<Figure size 432x288 with 1 Axes>"
      ]
     },
     "metadata": {
      "needs_background": "light"
     },
     "output_type": "display_data"
    }
   ],
   "source": [
    "import matplotlib.pyplot as plt\n",
    "plt.hist(df['length']);"
   ]
  },
  {
   "cell_type": "markdown",
   "metadata": {},
   "source": [
    "18. No obstant aixo, si volem caracteritzar el grafic amb titols als eixos, amb una amplada de les barres especifica diferent a la predeterminada, i a mes volem guardar el resultat en una figura dins el mateix directori d'aquest notebook, haurem de ser mes especifics:"
   ]
  },
  {
   "cell_type": "code",
   "execution_count": 19,
   "metadata": {
    "executionInfo": {
     "elapsed": 15,
     "status": "aborted",
     "timestamp": 1636526418071,
     "user": {
      "displayName": "Antoni Oliver Gelabert",
      "photoUrl": "https://lh3.googleusercontent.com/a-/AOh14GjQ0rAw8BJg_Ls9vocEKihb6s5D-13X7ZeQ5HPT=s64",
      "userId": "16377567832988269837"
     },
     "user_tz": -60
    },
    "id": "CrB4V0r__bov"
   },
   "outputs": [
    {
     "data": {
      "image/png": "[encoded data removed]",
      "text/plain": [
       "<Figure size 720x576 with 1 Axes>"
      ]
     },
     "metadata": {
      "needs_background": "light"
     },
     "output_type": "display_data"
    }
   ],
   "source": [
    "plt.figure(figsize=[10,8])\n",
    "plt.title('Histograma duracion peliculas - sakila (min)') \n",
    "plt.xlabel('Duracion (min)')\n",
    "plt.ylabel('Numero de peliculas (min)')\n",
    "plt.hist(df['length'],bins=20);\n",
    "plt.savefig(\"histograma_duracion_peliculas_sakila.png\",dpi=200)"
   ]
  },
  {
   "cell_type": "markdown",
   "metadata": {
    "id": "Q0q7nD8o_bow"
   },
   "source": [
    "#### Mes opcions:\n",
    "https://www.datacamp.com/community/tutorials/histograms-matplotlib"
   ]
  },
  {
   "cell_type": "markdown",
   "metadata": {
    "id": "re1jAmvW_boi"
   },
   "source": [
    "Tutorial W3 sobre el maneig de SQL a traves de Python\n",
    "\n",
    "https://www.w3schools.com/python/python_mysql_getstarted.asp "
   ]
  }
 ],
 "metadata": {
  "colab": {
   "collapsed_sections": [],
   "name": "Connect_sql_database_python.ipynb",
   "provenance": []
  },
  "kernelspec": {
   "display_name": "Python 3 (ipykernel)",
   "language": "python",
   "name": "python3"
  },
  "language_info": {
   "codemirror_mode": {
    "name": "ipython",
    "version": 3
   },
   "file_extension": ".py",
   "mimetype": "text/x-python",
   "name": "python",
   "nbconvert_exporter": "python",
   "pygments_lexer": "ipython3",
   "version": "3.9.12"
  }
 },
 "nbformat": 4,
 "nbformat_minor": 1
}
