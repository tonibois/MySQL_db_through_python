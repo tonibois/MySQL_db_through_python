{
 "cells": [
  {
   "cell_type": "markdown",
   "id": "42b2e3b6",
   "metadata": {},
   "source": [
    "# Connectar una base de dades  PostgreSQL desde Python\n",
    "\n",
    "------\n",
    "\n",
    "\n",
    "*Prof. Antoni Oliver Gelabert - Administracio de Sistemes Gestors de Bases de Dades (CIFP Pau Casesnoves, Curs 2022/2023)*\n"
   ]
  },
  {
   "cell_type": "markdown",
   "id": "20177eae",
   "metadata": {},
   "source": [
    "Pas 1. Instalam la llibreria psycopg2 que ens permet connectar amb la BBDD postgreSQL desde python"
   ]
  },
  {
   "cell_type": "code",
   "execution_count": 1,
   "id": "f2a47de6",
   "metadata": {},
   "outputs": [
    {
     "name": "stdout",
     "output_type": "stream",
     "text": [
      "Collecting psycopg2\n",
      "  Downloading psycopg2-2.9.5-cp39-cp39-win_amd64.whl (1.2 MB)\n",
      "Installing collected packages: psycopg2\n",
      "Successfully installed psycopg2-2.9.5\n"
     ]
    }
   ],
   "source": [
    "!pip install psycopg2"
   ]
  },
  {
   "cell_type": "markdown",
   "id": "0b449662",
   "metadata": {},
   "source": [
    "2. Descarregam la base de dades dellstore (si no funciona wget la podem descarregar i posar al directori on tenim el notebook. L'haurem de descomprimir i desempaquetar."
   ]
  },
  {
   "cell_type": "code",
   "execution_count": null,
   "id": "cddc2c72",
   "metadata": {},
   "outputs": [],
   "source": [
    "!wget https://ftp.postgresql.org/pub/projects/pgFoundry/dbsamples/dellstore2/dellstore2-normal-1.0/dellstore2-normal-1.0.tar.gz"
   ]
  },
  {
   "cell_type": "code",
   "execution_count": 139,
   "id": "96f61029",
   "metadata": {},
   "outputs": [],
   "source": [
    "!gzip -d dellstore2-normal-1.0.tar.gz"
   ]
  },
  {
   "cell_type": "code",
   "execution_count": 140,
   "id": "0a900b39",
   "metadata": {},
   "outputs": [
    {
     "name": "stdout",
     "output_type": "stream",
     "text": [
      "Connect_SQL_python_activity.ipynb\n",
      "Connect_sql_database_python - Jupyter Notebook.pdf\n",
      "Connect_sql_database_python.ipynb\n",
      "connect_mysql_db_python.ipynb\n",
      "connect_postgreSQL_python.ipynb\n",
      "dellstore2-normal-1.0.tar\n",
      "diagrama_caja_precios_de_productos_dellstore.png\n",
      "histograma_duracion_peliculas_sakila.png\n",
      "histograma_precios_de_productos_dellstore.png\n"
     ]
    }
   ],
   "source": [
    "!ls"
   ]
  },
  {
   "cell_type": "code",
   "execution_count": 141,
   "id": "5f9c2e38",
   "metadata": {},
   "outputs": [
    {
     "name": "stderr",
     "output_type": "stream",
     "text": [
      "x dellstore2-normal-1.0/LICENSE\n",
      "x dellstore2-normal-1.0/README\n",
      "x dellstore2-normal-1.0/dellstore2-normal-1.0.sql\n"
     ]
    }
   ],
   "source": [
    "!tar -xvf dellstore2-normal-1.0.tar"
   ]
  },
  {
   "cell_type": "markdown",
   "id": "d509ef06",
   "metadata": {},
   "source": [
    "3. Una vegada descomprimida i desempaquetada la BBDD dellstore en el directori actual, crearem la BBDD emprant el client psql (es pot fer directament per terminal si no vos va be)"
   ]
  },
  {
   "cell_type": "code",
   "execution_count": null,
   "id": "c8255f2f",
   "metadata": {},
   "outputs": [],
   "source": [
    "!psql -U postgres -c \"create database dellstore;\""
   ]
  },
  {
   "cell_type": "markdown",
   "id": "7bd5cf10",
   "metadata": {},
   "source": [
    "4. Una vegada creada la BBDD importarem l'esquema i les dades del fitxer SQL "
   ]
  },
  {
   "cell_type": "code",
   "execution_count": null,
   "id": "56c942f0",
   "metadata": {},
   "outputs": [],
   "source": [
    "!psql -U postgres dellstore < dellstore2-normal-1.0/dellstore2-normal-1.0.sql"
   ]
  },
  {
   "cell_type": "markdown",
   "id": "13c05c62",
   "metadata": {},
   "source": [
    "5. Ara ja treballam amb python (no hi ha signe d'exclamacio). Primer importam la llibrera psycopg2 per treballar amb postgreSQL i despres definim una connexio amb les credencials (creau l'usuari usudellstore amb password usudellstore previament i assignauli permisos de consulta de la BBDD dellstore."
   ]
  },
  {
   "cell_type": "code",
   "execution_count": 62,
   "id": "af32649c",
   "metadata": {},
   "outputs": [],
   "source": [
    "import psycopg2\n",
    "conn.close()\n",
    "conn = psycopg2.connect(host=\"localhost\",database=\"dellstore\",user=\"usudellstore\",password=\"usudellstore\")"
   ]
  },
  {
   "cell_type": "code",
   "execution_count": 63,
   "id": "aba2c4ea",
   "metadata": {},
   "outputs": [],
   "source": [
    "# create a cursor\n",
    "cur = conn.cursor()"
   ]
  },
  {
   "cell_type": "code",
   "execution_count": 56,
   "id": "fde79ceb",
   "metadata": {},
   "outputs": [
    {
     "name": "stdout",
     "output_type": "stream",
     "text": [
      "PostgreSQL database version:\n"
     ]
    }
   ],
   "source": [
    "# execute a statement\n",
    "print('PostgreSQL database version:')\n",
    "cur.execute('SELECT version()')"
   ]
  },
  {
   "cell_type": "code",
   "execution_count": 57,
   "id": "85f73323",
   "metadata": {},
   "outputs": [
    {
     "name": "stdout",
     "output_type": "stream",
     "text": [
      "('PostgreSQL 14.5, compiled by Visual C++ build 1914, 64-bit',)\n"
     ]
    }
   ],
   "source": [
    "# display the PostgreSQL database server version\n",
    "db_version = cur.fetchone()\n",
    "print(db_version)"
   ]
  },
  {
   "cell_type": "markdown",
   "id": "41c9d468",
   "metadata": {},
   "source": [
    "6. Ara provam de seleccionar els productes de la base de dades "
   ]
  },
  {
   "cell_type": "code",
   "execution_count": 58,
   "id": "a8746c5d",
   "metadata": {},
   "outputs": [],
   "source": [
    "cur.execute('SELECT * from products')"
   ]
  },
  {
   "cell_type": "markdown",
   "id": "b776fb0d",
   "metadata": {},
   "source": [
    "7. Emmagatzemam els resultats dins productes i visualitzem les tuples 3 a 6"
   ]
  },
  {
   "cell_type": "code",
   "execution_count": 59,
   "id": "fb49af7d",
   "metadata": {},
   "outputs": [
    {
     "data": {
      "text/plain": [
       "[(3, 6, 'ACADEMY ADAPTATION', 'VIVIEN KAHN', Decimal('28.99'), 0, 7173),\n",
       " (4, 3, 'ACADEMY AFFAIR', 'ALAN MARX', Decimal('14.99'), 0, 8042),\n",
       " (5, 3, 'ACADEMY AFRICAN', 'CARRIE HANNAH', Decimal('11.99'), 1, 2183)]"
      ]
     },
     "execution_count": 59,
     "metadata": {},
     "output_type": "execute_result"
    }
   ],
   "source": [
    "productes = cur.fetchall()\n",
    "productes[2:5]"
   ]
  },
  {
   "cell_type": "markdown",
   "id": "29998bbc",
   "metadata": {},
   "source": [
    "8. Guardem els noms dels camps dins labels"
   ]
  },
  {
   "cell_type": "code",
   "execution_count": 83,
   "id": "625f0899",
   "metadata": {},
   "outputs": [],
   "source": [
    "cur.execute(\"SELECT column_name FROM information_schema.columns WHERE table_name = 'products'\")"
   ]
  },
  {
   "cell_type": "code",
   "execution_count": 84,
   "id": "a2df6ee1",
   "metadata": {},
   "outputs": [
    {
     "data": {
      "text/plain": [
       "[('special',),\n",
       " ('common_prod_id',),\n",
       " ('category',),\n",
       " ('prod_id',),\n",
       " ('price',),\n",
       " ('actor',),\n",
       " ('title',)]"
      ]
     },
     "execution_count": 84,
     "metadata": {},
     "output_type": "execute_result"
    }
   ],
   "source": [
    "labels = cur.fetchall()\n",
    "labels"
   ]
  },
  {
   "cell_type": "code",
   "execution_count": 85,
   "id": "40d196c0",
   "metadata": {},
   "outputs": [
    {
     "data": {
      "text/plain": [
       "'category'"
      ]
     },
     "execution_count": 85,
     "metadata": {},
     "output_type": "execute_result"
    }
   ],
   "source": [
    "labels[2][0]"
   ]
  },
  {
   "cell_type": "markdown",
   "id": "a87c9c06",
   "metadata": {},
   "source": [
    "9. Prova de reemplacament de texte. Fixem-nos que els titols de camps tenen una coma que no volem dins el titol"
   ]
  },
  {
   "cell_type": "code",
   "execution_count": 99,
   "id": "7f40bcc9",
   "metadata": {},
   "outputs": [
    {
     "data": {
      "text/plain": [
       "'txt'"
      ]
     },
     "execution_count": 99,
     "metadata": {},
     "output_type": "execute_result"
    }
   ],
   "source": [
    "prova = 'texte'\n",
    "prova.replace('e','')"
   ]
  },
  {
   "cell_type": "markdown",
   "id": "2430650a",
   "metadata": {},
   "source": [
    "10. Per eliminar totes les comes implantam un loop"
   ]
  },
  {
   "cell_type": "code",
   "execution_count": null,
   "id": "2d53c509",
   "metadata": {},
   "outputs": [],
   "source": [
    "newlab=[]\n",
    "for i in range(len(labels)):\n",
    "    newlab.append(labels[i][0].replace(',',''))\n",
    "newlab"
   ]
  },
  {
   "cell_type": "markdown",
   "id": "8d7ed943",
   "metadata": {},
   "source": [
    "11. Passam a treballar amb pandas i posem les dades dins un dataframe per treure estadistiques i grafics interessants"
   ]
  },
  {
   "cell_type": "code",
   "execution_count": 105,
   "id": "4fe00aef",
   "metadata": {},
   "outputs": [],
   "source": [
    "import pandas as pd\n",
    "df =[]\n",
    "df = pd.DataFrame(productes, columns=newlab)"
   ]
  },
  {
   "cell_type": "code",
   "execution_count": 106,
   "id": "350488fe",
   "metadata": {},
   "outputs": [
    {
     "data": {
      "text/html": [
       "<div>\n",
       "<style scoped>\n",
       "    .dataframe tbody tr th:only-of-type {\n",
       "        vertical-align: middle;\n",
       "    }\n",
       "\n",
       "    .dataframe tbody tr th {\n",
       "        vertical-align: top;\n",
       "    }\n",
       "\n",
       "    .dataframe thead th {\n",
       "        text-align: right;\n",
       "    }\n",
       "</style>\n",
       "<table border=\"1\" class=\"dataframe\">\n",
       "  <thead>\n",
       "    <tr style=\"text-align: right;\">\n",
       "      <th></th>\n",
       "      <th>special</th>\n",
       "      <th>common_prod_id</th>\n",
       "      <th>category</th>\n",
       "      <th>prod_id</th>\n",
       "      <th>price</th>\n",
       "      <th>actor</th>\n",
       "      <th>title</th>\n",
       "    </tr>\n",
       "  </thead>\n",
       "  <tbody>\n",
       "    <tr>\n",
       "      <th>0</th>\n",
       "      <td>1</td>\n",
       "      <td>14</td>\n",
       "      <td>ACADEMY ACADEMY</td>\n",
       "      <td>PENELOPE GUINESS</td>\n",
       "      <td>25.99</td>\n",
       "      <td>0</td>\n",
       "      <td>1976</td>\n",
       "    </tr>\n",
       "    <tr>\n",
       "      <th>1</th>\n",
       "      <td>2</td>\n",
       "      <td>6</td>\n",
       "      <td>ACADEMY ACE</td>\n",
       "      <td>EWAN RICKMAN</td>\n",
       "      <td>20.99</td>\n",
       "      <td>0</td>\n",
       "      <td>6289</td>\n",
       "    </tr>\n",
       "    <tr>\n",
       "      <th>2</th>\n",
       "      <td>3</td>\n",
       "      <td>6</td>\n",
       "      <td>ACADEMY ADAPTATION</td>\n",
       "      <td>VIVIEN KAHN</td>\n",
       "      <td>28.99</td>\n",
       "      <td>0</td>\n",
       "      <td>7173</td>\n",
       "    </tr>\n",
       "    <tr>\n",
       "      <th>3</th>\n",
       "      <td>4</td>\n",
       "      <td>3</td>\n",
       "      <td>ACADEMY AFFAIR</td>\n",
       "      <td>ALAN MARX</td>\n",
       "      <td>14.99</td>\n",
       "      <td>0</td>\n",
       "      <td>8042</td>\n",
       "    </tr>\n",
       "    <tr>\n",
       "      <th>4</th>\n",
       "      <td>5</td>\n",
       "      <td>3</td>\n",
       "      <td>ACADEMY AFRICAN</td>\n",
       "      <td>CARRIE HANNAH</td>\n",
       "      <td>11.99</td>\n",
       "      <td>1</td>\n",
       "      <td>2183</td>\n",
       "    </tr>\n",
       "  </tbody>\n",
       "</table>\n",
       "</div>"
      ],
      "text/plain": [
       "   special  common_prod_id            category           prod_id  price  \\\n",
       "0        1              14     ACADEMY ACADEMY  PENELOPE GUINESS  25.99   \n",
       "1        2               6         ACADEMY ACE      EWAN RICKMAN  20.99   \n",
       "2        3               6  ACADEMY ADAPTATION       VIVIEN KAHN  28.99   \n",
       "3        4               3      ACADEMY AFFAIR         ALAN MARX  14.99   \n",
       "4        5               3     ACADEMY AFRICAN     CARRIE HANNAH  11.99   \n",
       "\n",
       "   actor  title  \n",
       "0      0   1976  \n",
       "1      0   6289  \n",
       "2      0   7173  \n",
       "3      0   8042  \n",
       "4      1   2183  "
      ]
     },
     "execution_count": 106,
     "metadata": {},
     "output_type": "execute_result"
    }
   ],
   "source": [
    "df.head()"
   ]
  },
  {
   "cell_type": "markdown",
   "id": "7e7ad012",
   "metadata": {},
   "source": [
    "12. Fixem-nos en els tipus de dades, com price es object, l'hem de canviar a float ja que es llegira com a string"
   ]
  },
  {
   "cell_type": "code",
   "execution_count": 125,
   "id": "5a6af0f9",
   "metadata": {},
   "outputs": [
    {
     "data": {
      "text/plain": [
       "special            int64\n",
       "common_prod_id     int64\n",
       "category          object\n",
       "prod_id           object\n",
       "price             object\n",
       "actor              int64\n",
       "title              int64\n",
       "dtype: object"
      ]
     },
     "execution_count": 125,
     "metadata": {},
     "output_type": "execute_result"
    }
   ],
   "source": [
    "df.dtypes\n"
   ]
  },
  {
   "cell_type": "code",
   "execution_count": 126,
   "id": "eb78644f",
   "metadata": {},
   "outputs": [],
   "source": [
    "df['price'] = df['price'].astype(float)"
   ]
  },
  {
   "cell_type": "markdown",
   "id": "a74aaabf",
   "metadata": {},
   "source": [
    "13. Verifiquem que s'ha produit el canvi"
   ]
  },
  {
   "cell_type": "code",
   "execution_count": 142,
   "id": "7ae4b997",
   "metadata": {},
   "outputs": [
    {
     "data": {
      "text/plain": [
       "special             int64\n",
       "common_prod_id      int64\n",
       "category           object\n",
       "prod_id            object\n",
       "price             float64\n",
       "actor               int64\n",
       "title               int64\n",
       "dtype: object"
      ]
     },
     "execution_count": 142,
     "metadata": {},
     "output_type": "execute_result"
    }
   ],
   "source": [
    "df.dtypes"
   ]
  },
  {
   "cell_type": "markdown",
   "id": "c0d972d6",
   "metadata": {},
   "source": [
    "14. Dibuixem l'histograma de preus"
   ]
  },
  {
   "cell_type": "code",
   "execution_count": 131,
   "id": "7e8e33b5",
   "metadata": {},
   "outputs": [
    {
     "data": {
      "image/png": "[encoded data removed]",
      "text/plain": [
       "<Figure size 1080x576 with 1 Axes>"
      ]
     },
     "metadata": {
      "needs_background": "light"
     },
     "output_type": "display_data"
    }
   ],
   "source": [
    "import matplotlib.pyplot as plt\n",
    "plt.figure(figsize=[15,8])\n",
    "plt.title('Histograma de precios de productos - dellstore') \n",
    "plt.xlabel('Precio (dolares)')\n",
    "plt.ylabel('Numero de productos')\n",
    "plt.hist(df['price'],bins=100,facecolor='blue', alpha=0.5, edgecolor = 'black');\n",
    "plt.savefig(\"histograma_precios_de_productos_dellstore.png\",dpi=200)"
   ]
  },
  {
   "cell_type": "markdown",
   "id": "cd5f0cee",
   "metadata": {},
   "source": [
    "Veim que la distribucio es bastant regular amb preus compresos entre 10 i 30 dolars"
   ]
  },
  {
   "cell_type": "markdown",
   "id": "8a4b4d47",
   "metadata": {},
   "source": [
    "15. Treim estadistiques des preus"
   ]
  },
  {
   "cell_type": "code",
   "execution_count": 129,
   "id": "71d5332f",
   "metadata": {},
   "outputs": [
    {
     "data": {
      "text/plain": [
       "count    10000.00\n",
       "mean        20.02\n",
       "std          6.04\n",
       "min          9.99\n",
       "25%         14.99\n",
       "50%         19.99\n",
       "75%         24.99\n",
       "max         29.99\n",
       "Name: price, dtype: float64"
      ]
     },
     "execution_count": 129,
     "metadata": {},
     "output_type": "execute_result"
    }
   ],
   "source": [
    "df['price'].describe().round(2)"
   ]
  },
  {
   "cell_type": "markdown",
   "id": "a8790a4d",
   "metadata": {},
   "source": [
    "16. Dibuixem un diagrama de caixa estadistic"
   ]
  },
  {
   "cell_type": "code",
   "execution_count": 136,
   "id": "4865f9c9",
   "metadata": {},
   "outputs": [
    {
     "data": {
      "image/png": "[encoded data removed]",
      "text/plain": [
       "<Figure size 1080x576 with 1 Axes>"
      ]
     },
     "metadata": {
      "needs_background": "light"
     },
     "output_type": "display_data"
    }
   ],
   "source": [
    "plt.figure(figsize=[15,8])\n",
    "plt.title('Diagrama de caja de precios de productos - dellstore') \n",
    "plt.xlabel('Productos dellstore')\n",
    "plt.ylabel('Precio de los productos')\n",
    "plt.boxplot(df['price']);\n",
    "plt.savefig(\"diagrama_caja_precios_de_productos_dellstore.png\",dpi=200)"
   ]
  },
  {
   "cell_type": "markdown",
   "id": "a8d35977",
   "metadata": {},
   "source": [
    "16. Finalment farem el mateix amb la taula orders"
   ]
  },
  {
   "cell_type": "code",
   "execution_count": 160,
   "id": "1c9d5996",
   "metadata": {},
   "outputs": [
    {
     "data": {
      "image/png": "[encoded data removed]",
      "text/plain": [
       "<Figure size 1080x576 with 1 Axes>"
      ]
     },
     "metadata": {
      "needs_background": "light"
     },
     "output_type": "display_data"
    }
   ],
   "source": [
    "import pandas as pd\n",
    "import matplotlib.pyplot as plt\n",
    "import psycopg2\n",
    "conn.close()\n",
    "conn = psycopg2.connect(host=\"localhost\",database=\"dellstore\",user=\"usudellstore\",password=\"usudellstore\")\n",
    "\n",
    "cur = conn.cursor()\n",
    "cur.execute('SELECT * from orders')\n",
    "ordres = cur.fetchall()\n",
    "\n",
    "cur = conn.cursor()\n",
    "cur.execute(\"SELECT column_name FROM information_schema.columns WHERE table_name = 'orders'\")\n",
    "labels = cur.fetchall()\n",
    "\n",
    "newlab=[]\n",
    "for i in range(len(labels)):\n",
    "    newlab.append(labels[i][0].replace(',',''))\n",
    "\n",
    "df =[]\n",
    "df = pd.DataFrame(ordres, columns=newlab)\n",
    "\n",
    "df['totalamount'] = df['totalamount'].astype(float)\n",
    "\n",
    "plt.figure(figsize=[15,8])\n",
    "plt.title('Violin plot dels pagaments fets (taula ordres de dellstore)') \n",
    "plt.xlabel('Ordres')\n",
    "plt.ylabel('Pagaments')\n",
    "plt.violinplot(df['totalamount'], widths=0.5, showmeans=True, showextrema=True, showmedians=True, bw_method=0.05)\n",
    "plt.savefig(\"violinplot_ordres_dellstore.png\",dpi=200)"
   ]
  },
  {
   "cell_type": "code",
   "execution_count": 148,
   "id": "1d54185a",
   "metadata": {},
   "outputs": [
    {
     "data": {
      "text/plain": [
       "count    12000.0\n",
       "mean       213.9\n",
       "std        125.1\n",
       "min          0.0\n",
       "25%        104.3\n",
       "50%        214.1\n",
       "75%        321.2\n",
       "max        433.0\n",
       "Name: totalamount, dtype: float64"
      ]
     },
     "execution_count": 148,
     "metadata": {},
     "output_type": "execute_result"
    }
   ],
   "source": [
    "df['totalamount'].describe().round(1)"
   ]
  },
  {
   "cell_type": "code",
   "execution_count": 164,
   "id": "4c64baa9",
   "metadata": {},
   "outputs": [
    {
     "data": {
      "image/png": "[encoded data removed]",
      "text/plain": [
       "<Figure size 1080x576 with 1 Axes>"
      ]
     },
     "metadata": {
      "needs_background": "light"
     },
     "output_type": "display_data"
    }
   ],
   "source": [
    "plt.figure(figsize=[15,8])\n",
    "plt.title('Histograma dels pagaments fets (taula ordres de dellstore)') \n",
    "plt.xlabel('Pagaments')\n",
    "plt.ylabel('Nombre de pagaments')\n",
    "plt.hist(df['totalamount'],bins=50,facecolor='blue', alpha=0.5, edgecolor = 'black')\n",
    "plt.savefig(\"violinplot_ordres_dellstore.png\",dpi=200)"
   ]
  },
  {
   "cell_type": "code",
   "execution_count": 165,
   "id": "71b0d4ab",
   "metadata": {},
   "outputs": [],
   "source": [
    "conn.close()"
   ]
  },
  {
   "cell_type": "markdown",
   "id": "d39edfa8",
   "metadata": {},
   "source": [
    "Ara, prova de fer els seguents exercicis al mateix notebook\n",
    "\n",
    "1. Fes un histograma de la quantitat de productes solicitats per cada ordre, en la linia d'ordres i comenta el resultat\n",
    "2. Descarrega i importa la BBDD usda a postgreSQL: https://ftp.postgresql.org/pub/projects/pgFoundry/dbsamples/\n",
    "3. Analitza els pesos dels paquets fent un histograma amb matplotlib. Extreu les estadistiques i comenta el resultat"
   ]
  },
  {
   "cell_type": "markdown",
   "id": "d4f605b5",
   "metadata": {},
   "source": [
    "Per mes bases de dades podeu consultar aqui: https://wiki.postgresql.org/wiki/Sample_Databases"
   ]
  }
 ],
 "metadata": {
  "kernelspec": {
   "display_name": "Python 3 (ipykernel)",
   "language": "python",
   "name": "python3"
  },
  "language_info": {
   "codemirror_mode": {
    "name": "ipython",
    "version": 3
   },
   "file_extension": ".py",
   "mimetype": "text/x-python",
   "name": "python",
   "nbconvert_exporter": "python",
   "pygments_lexer": "ipython3",
   "version": "3.9.12"
  }
 },
 "nbformat": 4,
 "nbformat_minor": 5
}
