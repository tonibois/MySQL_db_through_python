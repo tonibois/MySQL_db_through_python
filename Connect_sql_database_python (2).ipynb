{
 "cells": [
  {
   "cell_type": "markdown",
   "metadata": {
    "id": "n58LTTfx_boc"
   },
   "source": [
    "# Connectar una base de dades  MySQL desde Python\n",
    "\n",
    "------\n",
    "\n",
    "\n",
    "*Prof. Antoni Oliver Gelabert - Administracio de Sistemes Gestors de Bases de Dades (CIFP Pau Casesnoves, Curs 2022/2023)*\n",
    "\n",
    "Modificat de la versio anterior\n",
    "\n",
    "Prof. Antoni Oliver Gelabert - Sistemes de Gestio Empresarial (CIFP Pau Casesnoves, Curs 2021/2022)\n",
    "\n",
    "\n",
    "-----------"
   ]
  },
  {
   "cell_type": "markdown",
   "metadata": {},
   "source": [
    "1. instalam la llibreria del connector python-mysql emprant la terminal CLI (si no la tenim ja instalada)"
   ]
  },
  {
   "cell_type": "code",
   "execution_count": null,
   "metadata": {
    "colab": {
     "base_uri": "https://localhost:8080/"
    },
    "executionInfo": {
     "elapsed": 10292,
     "status": "ok",
     "timestamp": 1636526378516,
     "user": {
      "displayName": "Antoni Oliver Gelabert",
      "photoUrl": "https://lh3.googleusercontent.com/a-/AOh14GjQ0rAw8BJg_Ls9vocEKihb6s5D-13X7ZeQ5HPT=s64",
      "userId": "16377567832988269837"
     },
     "user_tz": -60
    },
    "id": "-iFkzNLl_boj",
    "outputId": "662dd184-04e1-48ed-df39-c74426cc4ef1"
   },
   "outputs": [],
   "source": [
    "!pip install mysql-connector-python"
   ]
  },
  {
   "cell_type": "markdown",
   "metadata": {},
   "source": [
    "2. Si estem en Linux, i encara no tenim la base de dades sakila importada a mysql, l'haurem de descarregar. Podem fer-ho amb wget a la terminal bash d'un sistema Linux (per exemple, Ubuntu). Si estem en Windows, podem pensar en descarregar el susbsistema Linux per Windows (WSL) i dur a terme la feina des d'alla. L'ordre WGET es troba tambe en el paquet Cygwin pensat per Windows. Tambe podem emprar una maquina virtual amb Ubuntu 20.04 LTS com a sistema convidat o be podem cercar una solucio amb docker. No obstant aixo, la base de dades es pot descarregar directament tambe desde la URL de la pagina especificada a continuacio de wget. Pensem que si empram Jupyter, el simbol d'exclamacio permet interactuar amb comandes interpretables per al SHELL. Aprofitem per tambe descomprimir la base de dades, una vegada s'ha descarregat "
   ]
  },
  {
   "cell_type": "code",
   "execution_count": null,
   "metadata": {
    "colab": {
     "base_uri": "https://localhost:8080/"
    },
    "executionInfo": {
     "elapsed": 909,
     "status": "ok",
     "timestamp": 1636526379420,
     "user": {
      "displayName": "Antoni Oliver Gelabert",
      "photoUrl": "https://lh3.googleusercontent.com/a-/AOh14GjQ0rAw8BJg_Ls9vocEKihb6s5D-13X7ZeQ5HPT=s64",
      "userId": "16377567832988269837"
     },
     "user_tz": -60
    },
    "id": "SfWZvAw91sdA",
    "outputId": "98bc56a7-8b9c-47c8-a626-2be6a7a44588"
   },
   "outputs": [],
   "source": [
    "!wget https://downloads.mysql.com/docs/sakila-db.zip\n",
    "!unzip sakila-db.zip"
   ]
  },
  {
   "cell_type": "markdown",
   "metadata": {},
   "source": [
    "3. Si encara no ho hem fet, cal instalar el Servidor MySQL. Aixo a Ubuntu es pot fer directament amb l'ordre apt install"
   ]
  },
  {
   "cell_type": "code",
   "execution_count": null,
   "metadata": {
    "colab": {
     "base_uri": "https://localhost:8080/"
    },
    "executionInfo": {
     "elapsed": 37787,
     "status": "ok",
     "timestamp": 1636526417204,
     "user": {
      "displayName": "Antoni Oliver Gelabert",
      "photoUrl": "https://lh3.googleusercontent.com/a-/AOh14GjQ0rAw8BJg_Ls9vocEKihb6s5D-13X7ZeQ5HPT=s64",
      "userId": "16377567832988269837"
     },
     "user_tz": -60
    },
    "id": "-ckRGVnb1l9Q",
    "outputId": "14b8e9bf-bafa-440b-d687-e4cb9f6d547c"
   },
   "outputs": [],
   "source": [
    "!apt install mysql-server 2> /dev/null"
   ]
  },
  {
   "cell_type": "markdown",
   "metadata": {
    "colab": {
     "base_uri": "https://localhost:8080/"
    },
    "executionInfo": {
     "elapsed": 18,
     "status": "ok",
     "timestamp": 1636526417205,
     "user": {
      "displayName": "Antoni Oliver Gelabert",
      "photoUrl": "https://lh3.googleusercontent.com/a-/AOh14GjQ0rAw8BJg_Ls9vocEKihb6s5D-13X7ZeQ5HPT=s64",
      "userId": "16377567832988269837"
     },
     "user_tz": -60
    },
    "id": "JwS6qDiK3C-b",
    "outputId": "0f5fa5e3-48ab-4f20-c324-aff4a71f5632"
   },
   "source": [
    "4. Tot seguit importam ara ja la BBDD sakila a MySQL. Primer l'esquema, llavors les dades. Fem servir un inici de sessio sense password per agilitzar, pero en un cas real sempre s'ha de tenir un bon password"
   ]
  },
  {
   "cell_type": "code",
   "execution_count": null,
   "metadata": {
    "colab": {
     "base_uri": "https://localhost:8080/"
    },
    "executionInfo": {
     "elapsed": 18,
     "status": "ok",
     "timestamp": 1636526417574,
     "user": {
      "displayName": "Antoni Oliver Gelabert",
      "photoUrl": "https://lh3.googleusercontent.com/a-/AOh14GjQ0rAw8BJg_Ls9vocEKihb6s5D-13X7ZeQ5HPT=s64",
      "userId": "16377567832988269837"
     },
     "user_tz": -60
    },
    "id": "0k1tCbgl1Wk2",
    "outputId": "333e6d4d-63ed-40e9-d43f-ff1e1b0dc5ac"
   },
   "outputs": [],
   "source": [
    "!mysql -u root -p '' sakila < sakila-db/sakila-schema.sql\n",
    "!mysql -u root -p '' sakila < sakila-db/sakila-data.sql"
   ]
  },
  {
   "cell_type": "markdown",
   "metadata": {},
   "source": [
    "5. Ara, importem la llibreria del connector python-mysql que hem instalat al pas 1. Aprofitem per connectar amb la base de dades sakila, que ja ha estat importada al pas anterior."
   ]
  },
  {
   "cell_type": "code",
   "execution_count": null,
   "metadata": {
    "colab": {
     "base_uri": "https://localhost:8080/",
     "height": 425
    },
    "executionInfo": {
     "elapsed": 503,
     "status": "error",
     "timestamp": 1636526418073,
     "user": {
      "displayName": "Antoni Oliver Gelabert",
      "photoUrl": "https://lh3.googleusercontent.com/a-/AOh14GjQ0rAw8BJg_Ls9vocEKihb6s5D-13X7ZeQ5HPT=s64",
      "userId": "16377567832988269837"
     },
     "user_tz": -60
    },
    "id": "Mm-nV2y__bol",
    "outputId": "5ee3f299-c491-4ecf-f64a-655f49c31cd3"
   },
   "outputs": [],
   "source": [
    "import mysql.connector\n",
    "\n",
    "mydb = mysql.connector.connect(\n",
    "  host=\"localhost\",\n",
    "  user=\"root\",\n",
    "  password=\"\",\n",
    "  database=\"sakila\"\n",
    ")"
   ]
  },
  {
   "cell_type": "markdown",
   "metadata": {
    "executionInfo": {
     "elapsed": 270,
     "status": "aborted",
     "timestamp": 1636526418061,
     "user": {
      "displayName": "Antoni Oliver Gelabert",
      "photoUrl": "https://lh3.googleusercontent.com/a-/AOh14GjQ0rAw8BJg_Ls9vocEKihb6s5D-13X7ZeQ5HPT=s64",
      "userId": "16377567832988269837"
     },
     "user_tz": -60
    },
    "id": "N3KdnFcm_bol"
   },
   "source": [
    "6. Salvam la consulta a la taula actors dins una llista anomenada myresult i amb un loop obtenim per pantalla les dades de la taula."
   ]
  },
  {
   "cell_type": "code",
   "execution_count": 75,
   "metadata": {
    "executionInfo": {
     "elapsed": 271,
     "status": "aborted",
     "timestamp": 1636526418062,
     "user": {
      "displayName": "Antoni Oliver Gelabert",
      "photoUrl": "https://lh3.googleusercontent.com/a-/AOh14GjQ0rAw8BJg_Ls9vocEKihb6s5D-13X7ZeQ5HPT=s64",
      "userId": "16377567832988269837"
     },
     "user_tz": -60
    },
    "id": "tvM-DyX2_bom"
   },
   "outputs": [],
   "source": [
    "mycursor = mydb.cursor()\n",
    "mycursor.execute(\"SELECT * FROM actor\")\n",
    "myresult = mycursor.fetchall()\n"
   ]
  },
  {
   "cell_type": "code",
   "execution_count": null,
   "metadata": {},
   "outputs": [],
   "source": [
    "for x in myresult:\n",
    "    print(x)"
   ]
  },
  {
   "cell_type": "markdown",
   "metadata": {},
   "source": [
    "7. Mostram nomes les 10 primeres tuples-files-registres"
   ]
  },
  {
   "cell_type": "code",
   "execution_count": 76,
   "metadata": {
    "executionInfo": {
     "elapsed": 272,
     "status": "aborted",
     "timestamp": 1636526418063,
     "user": {
      "displayName": "Antoni Oliver Gelabert",
      "photoUrl": "https://lh3.googleusercontent.com/a-/AOh14GjQ0rAw8BJg_Ls9vocEKihb6s5D-13X7ZeQ5HPT=s64",
      "userId": "16377567832988269837"
     },
     "user_tz": -60
    },
    "id": "CVOFq5oK_bon"
   },
   "outputs": [
    {
     "data": {
      "text/plain": [
       "[(1, 'PENELOPE', 'GUINESS', datetime.datetime(2006, 2, 15, 4, 34, 33)),\n",
       " (2, 'NICK', 'WAHLBERG', datetime.datetime(2006, 2, 15, 4, 34, 33)),\n",
       " (3, 'ED', 'CHASE', datetime.datetime(2006, 2, 15, 4, 34, 33)),\n",
       " (4, 'JENNIFER', 'DAVIS', datetime.datetime(2006, 2, 15, 4, 34, 33)),\n",
       " (5, 'JOHNNY', 'LOLLOBRIGIDA', datetime.datetime(2006, 2, 15, 4, 34, 33)),\n",
       " (6, 'BETTE', 'NICHOLSON', datetime.datetime(2006, 2, 15, 4, 34, 33)),\n",
       " (7, 'GRACE', 'MOSTEL', datetime.datetime(2006, 2, 15, 4, 34, 33)),\n",
       " (8, 'MATTHEW', 'JOHANSSON', datetime.datetime(2006, 2, 15, 4, 34, 33)),\n",
       " (9, 'JOE', 'SWANK', datetime.datetime(2006, 2, 15, 4, 34, 33)),\n",
       " (10, 'CHRISTIAN', 'GABLE', datetime.datetime(2006, 2, 15, 4, 34, 33))]"
      ]
     },
     "execution_count": 76,
     "metadata": {},
     "output_type": "execute_result"
    }
   ],
   "source": [
    "myresult[:10]"
   ]
  },
  {
   "cell_type": "markdown",
   "metadata": {},
   "source": [
    "8. Mostrem nomes la tupla 1 (en realitat es la segona tupla, ja que python compta a partir del zero)"
   ]
  },
  {
   "cell_type": "code",
   "execution_count": 77,
   "metadata": {
    "executionInfo": {
     "elapsed": 271,
     "status": "aborted",
     "timestamp": 1636526418063,
     "user": {
      "displayName": "Antoni Oliver Gelabert",
      "photoUrl": "https://lh3.googleusercontent.com/a-/AOh14GjQ0rAw8BJg_Ls9vocEKihb6s5D-13X7ZeQ5HPT=s64",
      "userId": "16377567832988269837"
     },
     "user_tz": -60
    },
    "id": "cBbqJkUU_boo"
   },
   "outputs": [
    {
     "data": {
      "text/plain": [
       "(2, 'NICK', 'WAHLBERG', datetime.datetime(2006, 2, 15, 4, 34, 33))"
      ]
     },
     "execution_count": 77,
     "metadata": {},
     "output_type": "execute_result"
    }
   ],
   "source": [
    "myresult[1]"
   ]
  },
  {
   "cell_type": "markdown",
   "metadata": {},
   "source": [
    "9. Mostrem l'atribut 2 (en realitat es el 3r perque python sempre compta el 0 com a 1r. Per tant, cognom de l'actor) de la tupla 5"
   ]
  },
  {
   "cell_type": "code",
   "execution_count": 78,
   "metadata": {
    "executionInfo": {
     "elapsed": 272,
     "status": "aborted",
     "timestamp": 1636526418064,
     "user": {
      "displayName": "Antoni Oliver Gelabert",
      "photoUrl": "https://lh3.googleusercontent.com/a-/AOh14GjQ0rAw8BJg_Ls9vocEKihb6s5D-13X7ZeQ5HPT=s64",
      "userId": "16377567832988269837"
     },
     "user_tz": -60
    },
    "id": "-QKO5iPb_bop"
   },
   "outputs": [
    {
     "data": {
      "text/plain": [
       "'NICHOLSON'"
      ]
     },
     "execution_count": 78,
     "metadata": {},
     "output_type": "execute_result"
    }
   ],
   "source": [
    "myresult[5][2]"
   ]
  },
  {
   "cell_type": "markdown",
   "metadata": {},
   "source": [
    "10. Importam la llibreria Pandas com a pd i guardam el resultat obtingut en la consulta dins un Dataframe "
   ]
  },
  {
   "cell_type": "code",
   "execution_count": 79,
   "metadata": {
    "executionInfo": {
     "elapsed": 274,
     "status": "aborted",
     "timestamp": 1636526418066,
     "user": {
      "displayName": "Antoni Oliver Gelabert",
      "photoUrl": "https://lh3.googleusercontent.com/a-/AOh14GjQ0rAw8BJg_Ls9vocEKihb6s5D-13X7ZeQ5HPT=s64",
      "userId": "16377567832988269837"
     },
     "user_tz": -60
    },
    "id": "MUL8zyd8_bor"
   },
   "outputs": [],
   "source": [
    "import pandas as pd\n",
    "df =[]\n",
    "df = pd.DataFrame(myresult, columns=['actor_id','first_name','last_name','timestamp'])"
   ]
  },
  {
   "cell_type": "markdown",
   "metadata": {},
   "source": [
    "11. Obtenim les 5 primeres linies del dataframe:"
   ]
  },
  {
   "cell_type": "code",
   "execution_count": 80,
   "metadata": {
    "executionInfo": {
     "elapsed": 273,
     "status": "aborted",
     "timestamp": 1636526418066,
     "user": {
      "displayName": "Antoni Oliver Gelabert",
      "photoUrl": "https://lh3.googleusercontent.com/a-/AOh14GjQ0rAw8BJg_Ls9vocEKihb6s5D-13X7ZeQ5HPT=s64",
      "userId": "16377567832988269837"
     },
     "user_tz": -60
    },
    "id": "x8L1qaPC_bor"
   },
   "outputs": [
    {
     "data": {
      "text/html": [
       "<div>\n",
       "<style scoped>\n",
       "    .dataframe tbody tr th:only-of-type {\n",
       "        vertical-align: middle;\n",
       "    }\n",
       "\n",
       "    .dataframe tbody tr th {\n",
       "        vertical-align: top;\n",
       "    }\n",
       "\n",
       "    .dataframe thead th {\n",
       "        text-align: right;\n",
       "    }\n",
       "</style>\n",
       "<table border=\"1\" class=\"dataframe\">\n",
       "  <thead>\n",
       "    <tr style=\"text-align: right;\">\n",
       "      <th></th>\n",
       "      <th>actor_id</th>\n",
       "      <th>first_name</th>\n",
       "      <th>last_name</th>\n",
       "      <th>timestamp</th>\n",
       "    </tr>\n",
       "  </thead>\n",
       "  <tbody>\n",
       "    <tr>\n",
       "      <th>0</th>\n",
       "      <td>1</td>\n",
       "      <td>PENELOPE</td>\n",
       "      <td>GUINESS</td>\n",
       "      <td>2006-02-15 04:34:33</td>\n",
       "    </tr>\n",
       "    <tr>\n",
       "      <th>1</th>\n",
       "      <td>2</td>\n",
       "      <td>NICK</td>\n",
       "      <td>WAHLBERG</td>\n",
       "      <td>2006-02-15 04:34:33</td>\n",
       "    </tr>\n",
       "    <tr>\n",
       "      <th>2</th>\n",
       "      <td>3</td>\n",
       "      <td>ED</td>\n",
       "      <td>CHASE</td>\n",
       "      <td>2006-02-15 04:34:33</td>\n",
       "    </tr>\n",
       "    <tr>\n",
       "      <th>3</th>\n",
       "      <td>4</td>\n",
       "      <td>JENNIFER</td>\n",
       "      <td>DAVIS</td>\n",
       "      <td>2006-02-15 04:34:33</td>\n",
       "    </tr>\n",
       "    <tr>\n",
       "      <th>4</th>\n",
       "      <td>5</td>\n",
       "      <td>JOHNNY</td>\n",
       "      <td>LOLLOBRIGIDA</td>\n",
       "      <td>2006-02-15 04:34:33</td>\n",
       "    </tr>\n",
       "  </tbody>\n",
       "</table>\n",
       "</div>"
      ],
      "text/plain": [
       "   actor_id first_name     last_name           timestamp\n",
       "0         1   PENELOPE       GUINESS 2006-02-15 04:34:33\n",
       "1         2       NICK      WAHLBERG 2006-02-15 04:34:33\n",
       "2         3         ED         CHASE 2006-02-15 04:34:33\n",
       "3         4   JENNIFER         DAVIS 2006-02-15 04:34:33\n",
       "4         5     JOHNNY  LOLLOBRIGIDA 2006-02-15 04:34:33"
      ]
     },
     "execution_count": 80,
     "metadata": {},
     "output_type": "execute_result"
    }
   ],
   "source": [
    "df.head()"
   ]
  },
  {
   "cell_type": "markdown",
   "metadata": {},
   "source": [
    "## Part II. Ara treballam amb la taula de pelicules, film."
   ]
  },
  {
   "cell_type": "markdown",
   "metadata": {},
   "source": [
    "12. Primer de tot importarem el nom de files de manera automatica i els guardarem dins labels a partir de la consulta \"desc film\" per obtenir el nom de les columnes"
   ]
  },
  {
   "cell_type": "code",
   "execution_count": 81,
   "metadata": {
    "executionInfo": {
     "elapsed": 274,
     "status": "aborted",
     "timestamp": 1636526418068,
     "user": {
      "displayName": "Antoni Oliver Gelabert",
      "photoUrl": "https://lh3.googleusercontent.com/a-/AOh14GjQ0rAw8BJg_Ls9vocEKihb6s5D-13X7ZeQ5HPT=s64",
      "userId": "16377567832988269837"
     },
     "user_tz": -60
    },
    "id": "--WDWY5B_bot"
   },
   "outputs": [
    {
     "name": "stdout",
     "output_type": "stream",
     "text": [
      "film_id\n",
      "title\n",
      "description\n",
      "release_year\n",
      "language_id\n",
      "original_language_id\n",
      "rental_duration\n",
      "rental_rate\n",
      "length\n",
      "replacement_cost\n",
      "rating\n",
      "special_features\n",
      "last_update\n"
     ]
    }
   ],
   "source": [
    "labels=[]\n",
    "mycursor = mydb.cursor()\n",
    "mycursor.execute(\"desc film\")\n",
    "myresult2 = mycursor.fetchall()\n",
    "for x in myresult2:\n",
    "    print(x[0])\n",
    "    labels.append(x[0])"
   ]
  },
  {
   "cell_type": "markdown",
   "metadata": {},
   "source": [
    "13. Ara, definim el dataframe de pelicules aprofitant la informacio salvada en labels per ja assignar automaticament la fila de noms de columnes a les dades. Tambe salvam la consulta sobre la taula de pelicules (films)"
   ]
  },
  {
   "cell_type": "code",
   "execution_count": 82,
   "metadata": {},
   "outputs": [],
   "source": [
    "mycursor = mydb.cursor()\n",
    "mycursor.execute(\"SELECT * FROM film\")\n",
    "myresult = mycursor.fetchall()\n",
    "df = pd.DataFrame(myresult, columns=labels)"
   ]
  },
  {
   "cell_type": "markdown",
   "metadata": {},
   "source": [
    "14. Observem les 5 primeres tuples del resutlat del DATAFRAME amb l'instruccio head"
   ]
  },
  {
   "cell_type": "code",
   "execution_count": 83,
   "metadata": {
    "executionInfo": {
     "elapsed": 275,
     "status": "aborted",
     "timestamp": 1636526418069,
     "user": {
      "displayName": "Antoni Oliver Gelabert",
      "photoUrl": "https://lh3.googleusercontent.com/a-/AOh14GjQ0rAw8BJg_Ls9vocEKihb6s5D-13X7ZeQ5HPT=s64",
      "userId": "16377567832988269837"
     },
     "user_tz": -60
    },
    "id": "BQ-rx7Gc_bou"
   },
   "outputs": [
    {
     "data": {
      "text/html": [
       "<div>\n",
       "<style scoped>\n",
       "    .dataframe tbody tr th:only-of-type {\n",
       "        vertical-align: middle;\n",
       "    }\n",
       "\n",
       "    .dataframe tbody tr th {\n",
       "        vertical-align: top;\n",
       "    }\n",
       "\n",
       "    .dataframe thead th {\n",
       "        text-align: right;\n",
       "    }\n",
       "</style>\n",
       "<table border=\"1\" class=\"dataframe\">\n",
       "  <thead>\n",
       "    <tr style=\"text-align: right;\">\n",
       "      <th></th>\n",
       "      <th>film_id</th>\n",
       "      <th>title</th>\n",
       "      <th>description</th>\n",
       "      <th>release_year</th>\n",
       "      <th>language_id</th>\n",
       "      <th>original_language_id</th>\n",
       "      <th>rental_duration</th>\n",
       "      <th>rental_rate</th>\n",
       "      <th>length</th>\n",
       "      <th>replacement_cost</th>\n",
       "      <th>rating</th>\n",
       "      <th>special_features</th>\n",
       "      <th>last_update</th>\n",
       "    </tr>\n",
       "  </thead>\n",
       "  <tbody>\n",
       "    <tr>\n",
       "      <th>0</th>\n",
       "      <td>1</td>\n",
       "      <td>ACADEMY DINOSAUR</td>\n",
       "      <td>A Epic Drama of a Feminist And a Mad Scientist...</td>\n",
       "      <td>2006</td>\n",
       "      <td>1</td>\n",
       "      <td>None</td>\n",
       "      <td>6</td>\n",
       "      <td>0.99</td>\n",
       "      <td>86</td>\n",
       "      <td>20.99</td>\n",
       "      <td>PG</td>\n",
       "      <td>{Deleted Scenes, Behind the Scenes}</td>\n",
       "      <td>2006-02-15 05:03:42</td>\n",
       "    </tr>\n",
       "    <tr>\n",
       "      <th>1</th>\n",
       "      <td>2</td>\n",
       "      <td>ACE GOLDFINGER</td>\n",
       "      <td>A Astounding Epistle of a Database Administrat...</td>\n",
       "      <td>2006</td>\n",
       "      <td>1</td>\n",
       "      <td>None</td>\n",
       "      <td>3</td>\n",
       "      <td>4.99</td>\n",
       "      <td>48</td>\n",
       "      <td>12.99</td>\n",
       "      <td>G</td>\n",
       "      <td>{Deleted Scenes, Trailers}</td>\n",
       "      <td>2006-02-15 05:03:42</td>\n",
       "    </tr>\n",
       "    <tr>\n",
       "      <th>2</th>\n",
       "      <td>3</td>\n",
       "      <td>ADAPTATION HOLES</td>\n",
       "      <td>A Astounding Reflection of a Lumberjack And a ...</td>\n",
       "      <td>2006</td>\n",
       "      <td>1</td>\n",
       "      <td>None</td>\n",
       "      <td>7</td>\n",
       "      <td>2.99</td>\n",
       "      <td>50</td>\n",
       "      <td>18.99</td>\n",
       "      <td>NC-17</td>\n",
       "      <td>{Deleted Scenes, Trailers}</td>\n",
       "      <td>2006-02-15 05:03:42</td>\n",
       "    </tr>\n",
       "    <tr>\n",
       "      <th>3</th>\n",
       "      <td>4</td>\n",
       "      <td>AFFAIR PREJUDICE</td>\n",
       "      <td>A Fanciful Documentary of a Frisbee And a Lumb...</td>\n",
       "      <td>2006</td>\n",
       "      <td>1</td>\n",
       "      <td>None</td>\n",
       "      <td>5</td>\n",
       "      <td>2.99</td>\n",
       "      <td>117</td>\n",
       "      <td>26.99</td>\n",
       "      <td>G</td>\n",
       "      <td>{Commentaries, Behind the Scenes}</td>\n",
       "      <td>2006-02-15 05:03:42</td>\n",
       "    </tr>\n",
       "    <tr>\n",
       "      <th>4</th>\n",
       "      <td>5</td>\n",
       "      <td>AFRICAN EGG</td>\n",
       "      <td>A Fast-Paced Documentary of a Pastry Chef And ...</td>\n",
       "      <td>2006</td>\n",
       "      <td>1</td>\n",
       "      <td>None</td>\n",
       "      <td>6</td>\n",
       "      <td>2.99</td>\n",
       "      <td>130</td>\n",
       "      <td>22.99</td>\n",
       "      <td>G</td>\n",
       "      <td>{Deleted Scenes}</td>\n",
       "      <td>2006-02-15 05:03:42</td>\n",
       "    </tr>\n",
       "  </tbody>\n",
       "</table>\n",
       "</div>"
      ],
      "text/plain": [
       "   film_id             title  \\\n",
       "0        1  ACADEMY DINOSAUR   \n",
       "1        2    ACE GOLDFINGER   \n",
       "2        3  ADAPTATION HOLES   \n",
       "3        4  AFFAIR PREJUDICE   \n",
       "4        5       AFRICAN EGG   \n",
       "\n",
       "                                         description  release_year  \\\n",
       "0  A Epic Drama of a Feminist And a Mad Scientist...          2006   \n",
       "1  A Astounding Epistle of a Database Administrat...          2006   \n",
       "2  A Astounding Reflection of a Lumberjack And a ...          2006   \n",
       "3  A Fanciful Documentary of a Frisbee And a Lumb...          2006   \n",
       "4  A Fast-Paced Documentary of a Pastry Chef And ...          2006   \n",
       "\n",
       "   language_id original_language_id  rental_duration rental_rate  length  \\\n",
       "0            1                 None                6        0.99      86   \n",
       "1            1                 None                3        4.99      48   \n",
       "2            1                 None                7        2.99      50   \n",
       "3            1                 None                5        2.99     117   \n",
       "4            1                 None                6        2.99     130   \n",
       "\n",
       "  replacement_cost rating                     special_features  \\\n",
       "0            20.99     PG  {Deleted Scenes, Behind the Scenes}   \n",
       "1            12.99      G           {Deleted Scenes, Trailers}   \n",
       "2            18.99  NC-17           {Deleted Scenes, Trailers}   \n",
       "3            26.99      G    {Commentaries, Behind the Scenes}   \n",
       "4            22.99      G                     {Deleted Scenes}   \n",
       "\n",
       "          last_update  \n",
       "0 2006-02-15 05:03:42  \n",
       "1 2006-02-15 05:03:42  \n",
       "2 2006-02-15 05:03:42  \n",
       "3 2006-02-15 05:03:42  \n",
       "4 2006-02-15 05:03:42  "
      ]
     },
     "execution_count": 83,
     "metadata": {},
     "output_type": "execute_result"
    }
   ],
   "source": [
    "df.head()"
   ]
  },
  {
   "cell_type": "markdown",
   "metadata": {},
   "source": [
    "15. Obtinguem una estadistica de la durada de les pelicules dins la base de dades sakila"
   ]
  },
  {
   "cell_type": "code",
   "execution_count": 84,
   "metadata": {
    "executionInfo": {
     "elapsed": 275,
     "status": "aborted",
     "timestamp": 1636526418070,
     "user": {
      "displayName": "Antoni Oliver Gelabert",
      "photoUrl": "https://lh3.googleusercontent.com/a-/AOh14GjQ0rAw8BJg_Ls9vocEKihb6s5D-13X7ZeQ5HPT=s64",
      "userId": "16377567832988269837"
     },
     "user_tz": -60
    },
    "id": "YhYqo3UA_bou"
   },
   "outputs": [
    {
     "data": {
      "text/plain": [
       "count    1000.000000\n",
       "mean      115.272000\n",
       "std        40.426332\n",
       "min        46.000000\n",
       "25%        80.000000\n",
       "50%       114.000000\n",
       "75%       149.250000\n",
       "max       185.000000\n",
       "Name: length, dtype: float64"
      ]
     },
     "execution_count": 84,
     "metadata": {},
     "output_type": "execute_result"
    }
   ],
   "source": [
    "df['length'].describe()"
   ]
  },
  {
   "cell_type": "markdown",
   "metadata": {},
   "source": [
    "16. Podem veure que els resultats indiquen una mitjana de 115 minuts de durada per unes 1000 pelicules. La desviacio tipica es de 40 minuts i la durada va entre els 46 minuts i els 185 minuts com a maxim."
   ]
  },
  {
   "cell_type": "markdown",
   "metadata": {},
   "source": [
    "17. Anem a veure mes detalls d'aquesta distribucio generant un histograma. Primer de tot importem matplotlib. Fer un histograma es tan simple com aixo:"
   ]
  },
  {
   "cell_type": "code",
   "execution_count": 85,
   "metadata": {
    "executionInfo": {
     "elapsed": 275,
     "status": "aborted",
     "timestamp": 1636526418070,
     "user": {
      "displayName": "Antoni Oliver Gelabert",
      "photoUrl": "https://lh3.googleusercontent.com/a-/AOh14GjQ0rAw8BJg_Ls9vocEKihb6s5D-13X7ZeQ5HPT=s64",
      "userId": "16377567832988269837"
     },
     "user_tz": -60
    },
    "id": "vxAy4i9s_bov"
   },
   "outputs": [
    {
     "data": {
      "image/png": "[encoded data removed]",
      "text/plain": [
       "<Figure size 432x288 with 1 Axes>"
      ]
     },
     "metadata": {
      "needs_background": "light"
     },
     "output_type": "display_data"
    }
   ],
   "source": [
    "import matplotlib.pyplot as plt\n",
    "plt.hist(df['length']);"
   ]
  },
  {
   "cell_type": "markdown",
   "metadata": {},
   "source": [
    "18. No obstant aixo, si volem caracteritzar el grafic amb titols als eixos, amb una amplada de les barres especifica diferent a la predeterminada, i a mes volem guardar el resultat en una figura dins el mateix directori d'aquest notebook, haurem de ser mes especifics:"
   ]
  },
  {
   "cell_type": "code",
   "execution_count": 86,
   "metadata": {
    "executionInfo": {
     "elapsed": 15,
     "status": "aborted",
     "timestamp": 1636526418071,
     "user": {
      "displayName": "Antoni Oliver Gelabert",
      "photoUrl": "https://lh3.googleusercontent.com/a-/AOh14GjQ0rAw8BJg_Ls9vocEKihb6s5D-13X7ZeQ5HPT=s64",
      "userId": "16377567832988269837"
     },
     "user_tz": -60
    },
    "id": "CrB4V0r__bov"
   },
   "outputs": [
    {
     "data": {
      "image/png": "[encoded data removed]",
      "text/plain": [
       "<Figure size 720x576 with 1 Axes>"
      ]
     },
     "metadata": {
      "needs_background": "light"
     },
     "output_type": "display_data"
    }
   ],
   "source": [
    "plt.figure(figsize=[10,8])\n",
    "plt.title('Histograma duracion peliculas - sakila (min)') \n",
    "plt.xlabel('Duracion (min)')\n",
    "plt.ylabel('Numero de peliculas (min)')\n",
    "plt.hist(df['length'],bins=20);\n",
    "plt.savefig(\"histograma_duracion_peliculas_sakila.png\",dpi=200)"
   ]
  },
  {
   "cell_type": "markdown",
   "metadata": {
    "id": "Q0q7nD8o_bow"
   },
   "source": [
    "#### Mes opcions:\n",
    "https://www.datacamp.com/community/tutorials/histograms-matplotlib"
   ]
  },
  {
   "cell_type": "markdown",
   "metadata": {
    "id": "re1jAmvW_boi"
   },
   "source": [
    "Tutorial W3 sobre el maneig de SQL a traves de Python\n",
    "\n",
    "https://www.w3schools.com/python/python_mysql_getstarted.asp "
   ]
  }
 ],
 "metadata": {
  "colab": {
   "collapsed_sections": [],
   "name": "Connect_sql_database_python.ipynb",
   "provenance": []
  },
  "kernelspec": {
   "display_name": "Python 3 (ipykernel)",
   "language": "python",
   "name": "python3"
  },
  "language_info": {
   "codemirror_mode": {
    "name": "ipython",
    "version": 3
   },
   "file_extension": ".py",
   "mimetype": "text/x-python",
   "name": "python",
   "nbconvert_exporter": "python",
   "pygments_lexer": "ipython3",
   "version": "3.9.12"
  }
 },
 "nbformat": 4,
 "nbformat_minor": 1
}
